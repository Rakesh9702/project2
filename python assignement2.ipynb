{
 "cells": [
  {
   "cell_type": "code",
   "execution_count": 101,
   "id": "a7f4616c-36f4-4239-b43c-81f603530355",
   "metadata": {},
   "outputs": [],
   "source": [
    "# Q.1.Write a program to reverse a string.\n",
    "#Function to reverse a string\n",
    "def reversed_string(input_string):\n",
    "    #using string slicing to reverse the string\n",
    "    reversed_string=input_string[::-1]\n",
    "    return reversed_string"
   ]
  },
  {
   "cell_type": "code",
   "execution_count": 102,
   "id": "878a9db2-2ccc-41ad-85d4-8514230045f0",
   "metadata": {},
   "outputs": [
    {
     "name": "stdin",
     "output_type": "stream",
     "text": [
      "enter the string: sonu is the best coder\n"
     ]
    }
   ],
   "source": [
    "#input string from the user\n",
    "input_string=input(\"enter the string:\")"
   ]
  },
  {
   "cell_type": "code",
   "execution_count": 37,
   "id": "45bc9bfd-ec9f-428d-aaf1-825698161480",
   "metadata": {},
   "outputs": [],
   "source": [
    "#call the function to reverse the string\n",
    "reversed_result=reversed_string(input_string)"
   ]
  },
  {
   "cell_type": "code",
   "execution_count": 38,
   "id": "04b30090-d440-4982-89d2-d67d0f05a891",
   "metadata": {},
   "outputs": [
    {
     "name": "stdout",
     "output_type": "stream",
     "text": [
      "reversed_string: redoc tseb eht si unos\n"
     ]
    }
   ],
   "source": [
    "#display the reversed string\n",
    "print(\"reversed_string:\",reversed_result)"
   ]
  },
  {
   "cell_type": "code",
   "execution_count": 103,
   "id": "9ff3a5f5-14fe-4c1e-96d2-75907836dd9a",
   "metadata": {},
   "outputs": [
    {
     "name": "stdin",
     "output_type": "stream",
     "text": [
      "enter the string: world is so big\n"
     ]
    }
   ],
   "source": [
    "#Q.2.Check if a string is a palindrome.\n",
    "#Input string from the user\n",
    "input_string=input(\"enter the string:\")"
   ]
  },
  {
   "cell_type": "code",
   "execution_count": 40,
   "id": "91f76462-f719-48e1-8a40-dc2532221bbe",
   "metadata": {},
   "outputs": [],
   "source": [
    "#remove spaces and convert to lowercase for case insensitive comparision\n",
    "clean_string=' '.join(input_string.split()).lower()"
   ]
  },
  {
   "cell_type": "code",
   "execution_count": 41,
   "id": "f89f6b88-28c7-45a1-9eac-81c1c86679be",
   "metadata": {},
   "outputs": [
    {
     "name": "stdout",
     "output_type": "stream",
     "text": [
      "it is not a palindrome\n"
     ]
    }
   ],
   "source": [
    "#check if the cleaned string is equal to its reversed\n",
    "if clean_string==clean_string[::-1]:\n",
    "    print(\"it is a palindrome\")\n",
    "else:\n",
    "    print(\"it is not a palindrome\")"
   ]
  },
  {
   "cell_type": "code",
   "execution_count": 42,
   "id": "f1815bdb-8193-47f4-8b41-ec29722e5975",
   "metadata": {},
   "outputs": [
    {
     "name": "stdin",
     "output_type": "stream",
     "text": [
      "enter the string: world is filled with water\n"
     ]
    }
   ],
   "source": [
    "#Q.3.convert string in uppercase\n",
    "input_string=input(\"enter the string:\")"
   ]
  },
  {
   "cell_type": "code",
   "execution_count": 43,
   "id": "dfb82a11-665b-4c44-b357-b641469fc32b",
   "metadata": {},
   "outputs": [],
   "source": [
    "#Convert the string into upper case\n",
    "upper_case=str.upper(input_string)"
   ]
  },
  {
   "cell_type": "code",
   "execution_count": 44,
   "id": "abade85c-f071-4491-9e56-7d195b517d6e",
   "metadata": {},
   "outputs": [
    {
     "name": "stdout",
     "output_type": "stream",
     "text": [
      "input_string: WORLD IS FILLED WITH WATER\n"
     ]
    }
   ],
   "source": [
    "print(\"input_string:\",upper_case)"
   ]
  },
  {
   "cell_type": "code",
   "execution_count": 45,
   "id": "31da0023-685e-49d0-9523-956fab9d155b",
   "metadata": {},
   "outputs": [
    {
     "name": "stdin",
     "output_type": "stream",
     "text": [
      "enter the string: we can't live without oxygen\n"
     ]
    }
   ],
   "source": [
    "#Q.4.convert string in lowercase\n",
    "input_string=input(\"enter the string:\")"
   ]
  },
  {
   "cell_type": "code",
   "execution_count": 46,
   "id": "ba4baae2-0c42-4dbc-b67d-ad845a74635a",
   "metadata": {},
   "outputs": [],
   "source": [
    "lower_case=str.lower(input_string)"
   ]
  },
  {
   "cell_type": "code",
   "execution_count": 47,
   "id": "93200739-5b39-454e-bc27-e28229647640",
   "metadata": {},
   "outputs": [
    {
     "name": "stdout",
     "output_type": "stream",
     "text": [
      "input_string: we can't live without oxygen\n"
     ]
    }
   ],
   "source": [
    "print(\"input_string:\",lower_case)"
   ]
  },
  {
   "cell_type": "code",
   "execution_count": 48,
   "id": "a4dc3741-d8f3-42a0-aace-aa82a4da6106",
   "metadata": {},
   "outputs": [],
   "source": [
    "#Q.5.count the number of vowels in string\n",
    "user_input=('enter the sentence')"
   ]
  },
  {
   "cell_type": "code",
   "execution_count": 49,
   "id": "1bdb0abf-2f08-4b43-98bc-0e24407cd337",
   "metadata": {},
   "outputs": [],
   "source": [
    "#convert the input sentence to lowercase to handle both uppercase and lowercase vowels\n",
    "user_input=user_input.lower()"
   ]
  },
  {
   "cell_type": "code",
   "execution_count": 50,
   "id": "9d06fc78-5cc7-470d-a350-bf06a2255413",
   "metadata": {},
   "outputs": [],
   "source": [
    "#initialize a variable to count vowels\n",
    "vowel_count=0"
   ]
  },
  {
   "cell_type": "code",
   "execution_count": 51,
   "id": "d9c10e50-1533-4e4b-9455-6fe2d336f4af",
   "metadata": {},
   "outputs": [],
   "source": [
    "#define a set of vowels\n",
    "vowels='aeiou'"
   ]
  },
  {
   "cell_type": "code",
   "execution_count": 52,
   "id": "cbd57022-ce08-4bfb-ad10-582338661930",
   "metadata": {},
   "outputs": [],
   "source": [
    "#loop through each character in the sentence\n",
    "for char in user_input:\n",
    "    #check if the character is vowel\n",
    "    if char in vowels:\n",
    "        vowel_count+=1"
   ]
  },
  {
   "cell_type": "code",
   "execution_count": 53,
   "id": "c3319080-dfd8-4c94-9bba-564f794acb72",
   "metadata": {},
   "outputs": [
    {
     "name": "stdout",
     "output_type": "stream",
     "text": [
      "number of vowels in sentence: 6\n"
     ]
    }
   ],
   "source": [
    "#display the vowel count\n",
    "print(\"number of vowels in sentence:\",vowel_count)"
   ]
  },
  {
   "cell_type": "code",
   "execution_count": 87,
   "id": "237e755f-087a-4910-a76a-a9954bbe5efc",
   "metadata": {},
   "outputs": [],
   "source": [
    "#Q.6.count the number of consonant in string\n",
    "def count_consonants(inupt_string):\n",
    "    #define a set of consonant letters\n",
    "    consonants =\"ahdibviaoorybkvruri\""
   ]
  },
  {
   "cell_type": "code",
   "execution_count": 88,
   "id": "a555ec62-a013-40be-a803-3c141fb25b16",
   "metadata": {},
   "outputs": [],
   "source": [
    "#initialize a counter for consonant\n",
    "count=0"
   ]
  },
  {
   "cell_type": "code",
   "execution_count": 89,
   "id": "ebb7892f-fbcc-4b6a-a557-0581f166d236",
   "metadata": {},
   "outputs": [],
   "source": [
    "#iterate through each character in string\n",
    "for char in input_string:\n",
    "    #check if the character is in the consonant set\n",
    "    if char .isalpha() and char not in \"aeiouAEIOU\":\n",
    "        count+=1"
   ]
  },
  {
   "cell_type": "code",
   "execution_count": 90,
   "id": "016522d3-f245-4029-b4c6-5c22124d97b4",
   "metadata": {},
   "outputs": [
    {
     "name": "stdout",
     "output_type": "stream",
     "text": [
      "number of consonant: None\n"
     ]
    }
   ],
   "source": [
    "#example usage\n",
    "input_string=\"HELLO WORLD\"\n",
    "result=count_consonant(input_string)\n",
    "print('number of consonant:',result)"
   ]
  },
  {
   "cell_type": "code",
   "execution_count": 91,
   "id": "a0a409bf-70b4-43e9-a94d-4ad8f6858f13",
   "metadata": {},
   "outputs": [],
   "source": [
    "#Q.7.Remove all whitespaces from a string.\n",
    "def remove_whitespace(input_string):\n",
    "     # Use str.replace() to replace all whitespaces with an empty string\n",
    "        return input_string.replace(\" \", \"\")"
   ]
  },
  {
   "cell_type": "code",
   "execution_count": 92,
   "id": "d27b8ca0-97bd-48a2-a308-3791cecee1a3",
   "metadata": {},
   "outputs": [
    {
     "name": "stdout",
     "output_type": "stream",
     "text": [
      "String with whitespaces removed: HelloWorld\n"
     ]
    }
   ],
   "source": [
    "# Example usage:\n",
    "input_string = \"Hello  World\"\n",
    "result = remove_whitespace(input_string)\n",
    "print(\"String with whitespaces removed:\", result)"
   ]
  },
  {
   "cell_type": "code",
   "execution_count": 104,
   "id": "51fa89d5-0c36-44a1-b5c9-99bdf4c3c0ad",
   "metadata": {},
   "outputs": [
    {
     "name": "stdout",
     "output_type": "stream",
     "text": [
      "The length of the string is: 13\n"
     ]
    }
   ],
   "source": [
    "#Q.8. Find the length of a string without using the `len()` function.\n",
    "def calculate_length(input_string):\n",
    "    length = 0\n",
    "    for _ in input_string:\n",
    "        length += 1\n",
    "    return length\n",
    "\n",
    "# Example usage:\n",
    "input_string = \"Hello, World!\"\n",
    "string_length = calculate_length(input_string)\n",
    "\n",
    "print(f\"The length of the string is: {string_length}\")"
   ]
  },
  {
   "cell_type": "code",
   "execution_count": 99,
   "id": "77a44457-dbac-4d51-a352-39cfc225fea6",
   "metadata": {},
   "outputs": [],
   "source": [
    "#Q.9. Check if a string contains a specific word.\n",
    "def contains_word(input_string, word):\n",
    "    return word in input_string"
   ]
  },
  {
   "cell_type": "code",
   "execution_count": 100,
   "id": "abcdc2d2-7ad7-4549-9a5b-05b24eb73afc",
   "metadata": {},
   "outputs": [
    {
     "name": "stdout",
     "output_type": "stream",
     "text": [
      "The string contains the word 'sample'.\n"
     ]
    }
   ],
   "source": [
    "# Example usage:\n",
    "input_string = \"This is a sample sentence.\"\n",
    "word_to_find = \"sample\"\n",
    "if contains_word(input_string, word_to_find):\n",
    "    print(f\"The string contains the word '{word_to_find}'.\")\n",
    "else:\n",
    "    print(f\"The string does not contain the word '{word_to_find}'.\")"
   ]
  },
  {
   "cell_type": "code",
   "execution_count": 101,
   "id": "e5a60f6f-2bd9-4e59-9393-4de48762a181",
   "metadata": {},
   "outputs": [],
   "source": [
    "#Q.10. Replace a word in a string with another word.\n",
    "def replace_word(input_string, old_word, new_word):\n",
    "    # Use str.replace() to replace the old_word with the new_word\n",
    "    return input_string.replace(old_word, new_word)"
   ]
  },
  {
   "cell_type": "code",
   "execution_count": 102,
   "id": "c080c264-7ff6-4906-9ac5-59bb137dd4b5",
   "metadata": {},
   "outputs": [
    {
     "name": "stdout",
     "output_type": "stream",
     "text": [
      "Updated string: Hello, World! This is a example sentence.\n"
     ]
    }
   ],
   "source": [
    "# Example usage:\n",
    "input_string = \"Hello, World! This is a sample sentence.\"\n",
    "old_word = \"sample\"\n",
    "new_word = \"example\"\n",
    "result = replace_word(input_string, old_word, new_word)\n",
    "print(\"Updated string:\", result)"
   ]
  },
  {
   "cell_type": "code",
   "execution_count": 103,
   "id": "0df16bb2-6abf-47c4-927b-f17b799d1165",
   "metadata": {},
   "outputs": [],
   "source": [
    "#Q.11. Count the occurrences of a word in a string.\n",
    "def count_word_occurrences(input_string, word):\n",
    "    # Use str.count() to count occurrences of the word\n",
    "    return input_string.count(word)"
   ]
  },
  {
   "cell_type": "code",
   "execution_count": 104,
   "id": "9fad32e2-4659-489e-a197-baa0d94d0799",
   "metadata": {},
   "outputs": [
    {
     "name": "stdout",
     "output_type": "stream",
     "text": [
      "The word 'sample' appears 2 times in the string.\n"
     ]
    }
   ],
   "source": [
    "# Example usage:\n",
    "input_string = \"This is a sample sentence. This sample sentence is an example.\"\n",
    "word_to_count = \"sample\"\n",
    "count = count_word_occurrences(input_string, word_to_count)\n",
    "print(f\"The word '{word_to_count}' appears {count} times in the string.\")"
   ]
  },
  {
   "cell_type": "code",
   "execution_count": 105,
   "id": "b25e956c-2e6c-4da0-a810-8843ad0c1e40",
   "metadata": {},
   "outputs": [
    {
     "name": "stdout",
     "output_type": "stream",
     "text": [
      "The first occurrence of 'sample' starts at index 10.\n"
     ]
    }
   ],
   "source": [
    "#Q.12. Find the first occurrence of a word in a string.\n",
    "def find_first_occurrence(input_string, target_word):\n",
    "    index = input_string.find(target_word)\n",
    "    return index\n",
    "\n",
    "# Example usage:\n",
    "input_string = \"This is a sample sentence. This sentence contains sample words.\"\n",
    "target_word = \"sample\"\n",
    "\n",
    "first_occurrence_index = find_first_occurrence(input_string, target_word)\n",
    "\n",
    "if first_occurrence_index != -1:\n",
    "    print(f\"The first occurrence of '{target_word}' starts at index {first_occurrence_index}.\")\n",
    "else:\n",
    "    print(f\"'{target_word}' not found in the string.\")"
   ]
  },
  {
   "cell_type": "code",
   "execution_count": 106,
   "id": "e18d8c43-12f3-42a2-b412-ee680d45acd9",
   "metadata": {},
   "outputs": [
    {
     "name": "stdout",
     "output_type": "stream",
     "text": [
      "The last occurrence of 'sample' starts at index 50.\n"
     ]
    }
   ],
   "source": [
    "#Q.13. Find the last occurrence of a word in a string.\n",
    "def find_last_occurrence(input_string, target_word):\n",
    "    index = input_string.rfind(target_word)\n",
    "    return index\n",
    "\n",
    "# Example usage:\n",
    "input_string = \"This is a sample sentence. This sentence contains sample words. Sample is the last word.\"\n",
    "target_word = \"sample\"\n",
    "\n",
    "last_occurrence_index = find_last_occurrence(input_string, target_word)\n",
    "\n",
    "if last_occurrence_index != -1:\n",
    "    print(f\"The last occurrence of '{target_word}' starts at index {last_occurrence_index}.\")\n",
    "else:\n",
    "    print(f\"'{target_word}' not found in the string.\")"
   ]
  },
  {
   "cell_type": "code",
   "execution_count": 31,
   "id": "a5188c93-3590-4c65-94cd-2e3676ec29cf",
   "metadata": {},
   "outputs": [],
   "source": [
    "#Q.14. Split a string into a list of words.\n",
    "# Input string\n",
    "input_string = \"This is a sample sentence.\""
   ]
  },
  {
   "cell_type": "code",
   "execution_count": 32,
   "id": "e52ac0a2-3b47-4429-91cc-a45c6881d643",
   "metadata": {},
   "outputs": [],
   "source": [
    "# Split the string into a list of words\n",
    "word_list = input_string.split()"
   ]
  },
  {
   "cell_type": "code",
   "execution_count": 33,
   "id": "6193d9ab-7f06-41db-9b3c-5758e520977f",
   "metadata": {},
   "outputs": [
    {
     "name": "stdout",
     "output_type": "stream",
     "text": [
      "['This', 'is', 'a', 'sample', 'sentence.']\n"
     ]
    }
   ],
   "source": [
    "# Print the list of words\n",
    "print(word_list)"
   ]
  },
  {
   "cell_type": "code",
   "execution_count": 37,
   "id": "ebf24ff0-64b1-4b13-aaa2-77bdbac16b9e",
   "metadata": {},
   "outputs": [],
   "source": [
    "#Q.15. Join a list of words into a string.\n",
    "# List of words\n",
    "word_list = ['This', 'is', 'a', 'sample', 'sentence.']"
   ]
  },
  {
   "cell_type": "code",
   "execution_count": 38,
   "id": "3c5ba076-85a9-40df-ac90-d81852e57853",
   "metadata": {},
   "outputs": [],
   "source": [
    "# Join the list of words into a string with a space as a separator\n",
    "result_string = ' '.join(word_list)"
   ]
  },
  {
   "cell_type": "code",
   "execution_count": 39,
   "id": "dd900658-577b-4f8c-aa80-952797190fc5",
   "metadata": {},
   "outputs": [
    {
     "name": "stdout",
     "output_type": "stream",
     "text": [
      "This is a sample sentence.\n"
     ]
    }
   ],
   "source": [
    "# Print the result\n",
    "print(result_string)"
   ]
  },
  {
   "cell_type": "code",
   "execution_count": 40,
   "id": "3b5f6a23-b7bf-4f52-bc68-c1d3cf26cf2b",
   "metadata": {},
   "outputs": [],
   "source": [
    "#Q.16. Convert a string where words are separated by spaces to one where words are separated by underscores.\n",
    "# Input string with spaces\n",
    "input_string = \"This is a sample string with spaces.\""
   ]
  },
  {
   "cell_type": "code",
   "execution_count": 41,
   "id": "cc23e96f-0f66-49bf-b489-ec39d731d8e9",
   "metadata": {},
   "outputs": [],
   "source": [
    "# Replace spaces with underscores\n",
    "result_string = input_string.replace(\" \", \"_\")"
   ]
  },
  {
   "cell_type": "code",
   "execution_count": 42,
   "id": "42aa9bd9-7670-4b46-9e67-edfb0eac6347",
   "metadata": {},
   "outputs": [
    {
     "name": "stdout",
     "output_type": "stream",
     "text": [
      "This_is_a_sample_string_with_spaces.\n"
     ]
    }
   ],
   "source": [
    "# Print the result\n",
    "print(result_string)"
   ]
  },
  {
   "cell_type": "code",
   "execution_count": 43,
   "id": "9c45145b-8439-4bef-8319-dee3173fceb5",
   "metadata": {},
   "outputs": [],
   "source": [
    "#Q.17. Check if a string starts with a specific word or phrase.\n",
    "# Input string\n",
    "input_string = \"Hello, World! This is a sample string.\""
   ]
  },
  {
   "cell_type": "code",
   "execution_count": 44,
   "id": "c888c78e-481f-4096-b409-718ae9d56f3e",
   "metadata": {},
   "outputs": [],
   "source": [
    "# Prefix to check\n",
    "prefix_to_check = \"Hello\""
   ]
  },
  {
   "cell_type": "code",
   "execution_count": 45,
   "id": "e91962ff-1ed2-428c-89d4-a4a9a3bc5d2a",
   "metadata": {},
   "outputs": [],
   "source": [
    "# Check if the string starts with the specified prefix\n",
    "starts_with_prefix = input_string.startswith(prefix_to_check)"
   ]
  },
  {
   "cell_type": "code",
   "execution_count": 46,
   "id": "5af2466a-3bad-4bc7-8560-757c9457f21f",
   "metadata": {},
   "outputs": [
    {
     "name": "stdout",
     "output_type": "stream",
     "text": [
      "The string starts with 'Hello'.\n"
     ]
    }
   ],
   "source": [
    "# Print the result\n",
    "if starts_with_prefix:\n",
    "    print(f\"The string starts with '{prefix_to_check}'.\")\n",
    "else:\n",
    "    print(f\"The string does not start with '{prefix_to_check}'.\")"
   ]
  },
  {
   "cell_type": "code",
   "execution_count": 47,
   "id": "2fc34cc5-d722-4a53-b8a3-203e5f17a6a6",
   "metadata": {},
   "outputs": [],
   "source": [
    "#Q.18. Check if a string ends with a specific word or phrase.\n",
    "# Input string\n",
    "input_string = \"This is a sample string. It ends with 'example'.\""
   ]
  },
  {
   "cell_type": "code",
   "execution_count": 48,
   "id": "e423c3be-cd02-4ed6-9c13-6b538307cb57",
   "metadata": {},
   "outputs": [],
   "source": [
    "# Suffix to check\n",
    "suffix_to_check = \"example'.\""
   ]
  },
  {
   "cell_type": "code",
   "execution_count": 49,
   "id": "7fbf0977-800e-4e19-a5d5-c88b6496d348",
   "metadata": {},
   "outputs": [],
   "source": [
    "# Check if the string ends with the specified suffix\n",
    "ends_with_suffix = input_string.endswith(suffix_to_check)"
   ]
  },
  {
   "cell_type": "code",
   "execution_count": 50,
   "id": "ad957ae9-8b48-4ff5-a705-3358a132d3c3",
   "metadata": {},
   "outputs": [
    {
     "name": "stdout",
     "output_type": "stream",
     "text": [
      "The string ends with 'example'.'.\n"
     ]
    }
   ],
   "source": [
    "# Print the result\n",
    "if ends_with_suffix:\n",
    "    print(f\"The string ends with '{suffix_to_check}'.\")\n",
    "else:\n",
    "    print(f\"The string does not end with '{suffix_to_check}'.\")"
   ]
  },
  {
   "cell_type": "code",
   "execution_count": 51,
   "id": "aeafcfaa-69a7-4dd3-ad74-3b87981e8a96",
   "metadata": {},
   "outputs": [],
   "source": [
    "#Q.19. Convert a string to title case (e.g., \"hello world\" to \"Hello World\").\n",
    "# Input string\n",
    "input_string = \"hello world\""
   ]
  },
  {
   "cell_type": "code",
   "execution_count": 52,
   "id": "681be399-8697-47eb-8385-3c24c550147c",
   "metadata": {},
   "outputs": [],
   "source": [
    "# Convert the string to title case\n",
    "title_case_string = input_string.title()"
   ]
  },
  {
   "cell_type": "code",
   "execution_count": 53,
   "id": "6a407599-eef3-4610-9bf6-f7cb76518fff",
   "metadata": {},
   "outputs": [
    {
     "name": "stdout",
     "output_type": "stream",
     "text": [
      "Hello World\n"
     ]
    }
   ],
   "source": [
    "# Print the result\n",
    "print(title_case_string)"
   ]
  },
  {
   "cell_type": "code",
   "execution_count": 54,
   "id": "dcc8b260-0fac-420c-a566-5a63e4f48aa1",
   "metadata": {},
   "outputs": [],
   "source": [
    "#Q.20. Find the longest word in a string.\n",
    "# Input string\n",
    "input_string = \"This is a sample sentence with some long words.\""
   ]
  },
  {
   "cell_type": "code",
   "execution_count": 55,
   "id": "830dd04c-a283-4687-b591-c660201dda42",
   "metadata": {},
   "outputs": [],
   "source": [
    "# Split the string into words\n",
    "words = input_string.split()"
   ]
  },
  {
   "cell_type": "code",
   "execution_count": 57,
   "id": "8b345ccf-4a31-4531-a25f-cf17e794f97c",
   "metadata": {},
   "outputs": [],
   "source": [
    "# Initialize variables to store the longest word and its length\n",
    "longest_word = \"\"\n",
    "max_length = 0"
   ]
  },
  {
   "cell_type": "code",
   "execution_count": 59,
   "id": "3b3727bb-2cff-4546-b954-e5d5436b3cf3",
   "metadata": {},
   "outputs": [],
   "source": [
    "# Iterate through the words to find the longest word\n",
    "for word in words:\n",
    "    # Remove punctuation from the word (optional)\n",
    "    word = word.strip(\".,!?\")"
   ]
  },
  {
   "cell_type": "code",
   "execution_count": 60,
   "id": "bf220fa5-617a-43d8-959c-200de0898b20",
   "metadata": {},
   "outputs": [],
   "source": [
    "if len(word) > max_length:\n",
    "    max_length = len(word)\n",
    "    longest_word = word"
   ]
  },
  {
   "cell_type": "code",
   "execution_count": 61,
   "id": "f3ea7c96-e7c3-44b7-9501-4b9c58de6551",
   "metadata": {},
   "outputs": [
    {
     "name": "stdout",
     "output_type": "stream",
     "text": [
      "The longest word is: words\n"
     ]
    }
   ],
   "source": [
    "# Print the longest word\n",
    "print(f\"The longest word is: {longest_word}\")"
   ]
  },
  {
   "cell_type": "code",
   "execution_count": 62,
   "id": "ed5ac1cc-55f6-403d-9e97-667ee8b609e3",
   "metadata": {},
   "outputs": [],
   "source": [
    "#Q.21. Find the shortest word in a string.\n",
    "# Input string\n",
    "input_string = \"This is a sample sentence with some short and long words.\""
   ]
  },
  {
   "cell_type": "code",
   "execution_count": 63,
   "id": "8ab9315c-63b1-4732-a64c-c2eafa4695cb",
   "metadata": {},
   "outputs": [],
   "source": [
    "# Input string\n",
    "input_string = \"This is a sample sentence with some short and long words.\""
   ]
  },
  {
   "cell_type": "code",
   "execution_count": 64,
   "id": "9f8bb126-9815-4a39-8f68-601bc2a32054",
   "metadata": {},
   "outputs": [],
   "source": [
    "# Initialize variables to store the shortest word and its length\n",
    "shortest_word = None\n",
    "min_length = float('inf')  # Initialize with positive infinity"
   ]
  },
  {
   "cell_type": "code",
   "execution_count": 65,
   "id": "6ee6813b-3ef9-4280-83bf-e3bb2041ad0c",
   "metadata": {},
   "outputs": [],
   "source": [
    "# Iterate through the words to find the shortest word\n",
    "for word in words:\n",
    "    # Remove punctuation from the word (optional)\n",
    "    word = word.strip(\".,!?\")"
   ]
  },
  {
   "cell_type": "code",
   "execution_count": 66,
   "id": "484b1fe0-944c-4271-aaed-25b5c98a6cb5",
   "metadata": {},
   "outputs": [],
   "source": [
    "if len(word) < min_length:\n",
    "    min_length = len(word)\n",
    "    shortest_word = word"
   ]
  },
  {
   "cell_type": "code",
   "execution_count": 67,
   "id": "677f8972-3c41-4cc1-8038-26a7ebf502bd",
   "metadata": {},
   "outputs": [
    {
     "name": "stdout",
     "output_type": "stream",
     "text": [
      "The shortest word is: words\n"
     ]
    }
   ],
   "source": [
    "# Print the shortest word\n",
    "if shortest_word is not None:\n",
    "    print(f\"The shortest word is: {shortest_word}\")\n",
    "else:\n",
    "    print(\"No words found in the input string.\")"
   ]
  },
  {
   "cell_type": "code",
   "execution_count": 68,
   "id": "5bf3a11e-677d-4dea-b018-f9e4670d81f9",
   "metadata": {},
   "outputs": [],
   "source": [
    "#Q.22. Reverse the order of words in a string.\n",
    "# Input string\n",
    "input_string = \"This is a sample sentence.\""
   ]
  },
  {
   "cell_type": "code",
   "execution_count": 69,
   "id": "16a916ac-9013-4139-be6b-530f600ad49e",
   "metadata": {},
   "outputs": [],
   "source": [
    "# Split the string into words\n",
    "words = input_string.split()"
   ]
  },
  {
   "cell_type": "code",
   "execution_count": 70,
   "id": "245fec5b-094e-4682-b619-7fde2d3ad331",
   "metadata": {},
   "outputs": [],
   "source": [
    "# Reverse the order of words\n",
    "words.reverse()"
   ]
  },
  {
   "cell_type": "code",
   "execution_count": 71,
   "id": "c45d2a42-36cd-4ce2-911c-30b41cfd9554",
   "metadata": {},
   "outputs": [],
   "source": [
    "# Join the words back together\n",
    "reversed_string = \" \".join(words)"
   ]
  },
  {
   "cell_type": "code",
   "execution_count": 72,
   "id": "c3038594-cf79-4ee8-b48c-5b817360a07a",
   "metadata": {},
   "outputs": [
    {
     "name": "stdout",
     "output_type": "stream",
     "text": [
      "sentence. sample a is This\n"
     ]
    }
   ],
   "source": [
    "# Print the reversed string\n",
    "print(reversed_string)"
   ]
  },
  {
   "cell_type": "code",
   "execution_count": 73,
   "id": "935eaa19-9768-40a1-bafe-84bb8fb4a7c3",
   "metadata": {},
   "outputs": [],
   "source": [
    "#Q.23. Check if a string is alphanumeric.\n",
    "# Input string\n",
    "input_string = \"Hello123\""
   ]
  },
  {
   "cell_type": "code",
   "execution_count": 74,
   "id": "b058c156-6506-4542-8895-121ed3d23ca5",
   "metadata": {},
   "outputs": [],
   "source": [
    "# Check if the string is alphanumeric\n",
    "is_alphanumeric = input_string.isalnum()"
   ]
  },
  {
   "cell_type": "code",
   "execution_count": 75,
   "id": "da9cc1ac-8054-48b5-a944-b446f6f37afb",
   "metadata": {},
   "outputs": [
    {
     "name": "stdout",
     "output_type": "stream",
     "text": [
      "The string 'Hello123' is alphanumeric.\n"
     ]
    }
   ],
   "source": [
    "# Print the result\n",
    "if is_alphanumeric:\n",
    "    print(f\"The string '{input_string}' is alphanumeric.\")\n",
    "else:\n",
    "    print(f\"The string '{input_string}' is not alphanumeric.\")"
   ]
  },
  {
   "cell_type": "code",
   "execution_count": 78,
   "id": "60ad722b-2571-476a-9be1-518dab3e01af",
   "metadata": {},
   "outputs": [],
   "source": [
    "#Q.24. Extract all digits from a string.\n",
    "import re"
   ]
  },
  {
   "cell_type": "code",
   "execution_count": 79,
   "id": "dfbe8f9e-3182-4d77-a721-897cdf3be9a4",
   "metadata": {},
   "outputs": [],
   "source": [
    "# Input string\n",
    "input_string = \"Hello123World456\""
   ]
  },
  {
   "cell_type": "code",
   "execution_count": 80,
   "id": "73a01513-f597-4263-9f1c-48e5357434b3",
   "metadata": {},
   "outputs": [],
   "source": [
    "# Use regular expression to extract digits\n",
    "digits = re.findall(r'\\d', input_string)"
   ]
  },
  {
   "cell_type": "code",
   "execution_count": 81,
   "id": "e36cdf02-aa28-44a2-a345-372626e71201",
   "metadata": {},
   "outputs": [],
   "source": [
    "# Join the extracted digits into a string\n",
    "result = ''.join(digits)"
   ]
  },
  {
   "cell_type": "code",
   "execution_count": 82,
   "id": "4b28f46e-d1fc-4dd3-948f-b4c427313849",
   "metadata": {},
   "outputs": [
    {
     "name": "stdout",
     "output_type": "stream",
     "text": [
      "The extracted digits are: 123456\n"
     ]
    }
   ],
   "source": [
    "# Print the result\n",
    "print(f\"The extracted digits are: {result}\")"
   ]
  },
  {
   "cell_type": "code",
   "execution_count": 83,
   "id": "28297d3b-c066-4103-9462-f251412aedfd",
   "metadata": {},
   "outputs": [],
   "source": [
    "#Q.25. Extract all alphabets from a string.\n",
    "# Input string\n",
    "input_string = \"Hello123World\""
   ]
  },
  {
   "cell_type": "code",
   "execution_count": 84,
   "id": "7286f93c-1c4f-47ac-8033-b46411175006",
   "metadata": {},
   "outputs": [],
   "source": [
    "# Initialize an empty string to store the extracted alphabets\n",
    "extracted_alphabets = ''"
   ]
  },
  {
   "cell_type": "code",
   "execution_count": 85,
   "id": "0885a526-1d14-49b0-b84b-b6e139940a3c",
   "metadata": {},
   "outputs": [],
   "source": [
    "# Iterate through the characters in the input string\n",
    "for char in input_string:\n",
    "    if char.isalpha():\n",
    "        extracted_alphabets += char"
   ]
  },
  {
   "cell_type": "code",
   "execution_count": 86,
   "id": "6dbf64ba-6727-4d02-9662-b91fb3888c4e",
   "metadata": {},
   "outputs": [
    {
     "name": "stdout",
     "output_type": "stream",
     "text": [
      "The extracted alphabets are: HelloWorld\n"
     ]
    }
   ],
   "source": [
    "# Print the extracted alphabets\n",
    "print(f\"The extracted alphabets are: {extracted_alphabets}\")"
   ]
  },
  {
   "cell_type": "code",
   "execution_count": 13,
   "id": "01592f65-9153-4001-aa64-1f034aaf997b",
   "metadata": {},
   "outputs": [],
   "source": [
    "#Q.26. Count the number of uppercase letters in a string.\n",
    "def count_uppercase_letters(input_string):\n",
    "    count = 0\n",
    "    for char in input_string:\n",
    "        if char.isupper():\n",
    "            count += 1\n",
    "        return count"
   ]
  },
  {
   "cell_type": "code",
   "execution_count": 14,
   "id": "43626ced-ef0d-464f-bebc-964f2f5d50cb",
   "metadata": {},
   "outputs": [
    {
     "name": "stdout",
     "output_type": "stream",
     "text": [
      "Number of uppercase letters: 1\n"
     ]
    }
   ],
   "source": [
    "#initialize the string and count the number of uppercase\n",
    "input_string = \"Hello World\"\n",
    "uppercase_count = count_uppercase_letters(input_string)\n",
    "print(\"Number of uppercase letters:\", uppercase_count)"
   ]
  },
  {
   "cell_type": "code",
   "execution_count": 15,
   "id": "b9b0b4d0-f590-4d60-962c-e6f75ccbd622",
   "metadata": {},
   "outputs": [],
   "source": [
    "#Q.27. Count the number of lowercase letters in a string.\n",
    "def count_lowercase_letters(input_string):\n",
    "    count = 0\n",
    "    for char in input_string:\n",
    "        if char.islower():\n",
    "            count += 1\n",
    "    return count"
   ]
  },
  {
   "cell_type": "code",
   "execution_count": 16,
   "id": "0831477a-bf96-4e48-a7fa-3b780b29400a",
   "metadata": {},
   "outputs": [
    {
     "name": "stdout",
     "output_type": "stream",
     "text": [
      "Number of lowercase letters: 8\n"
     ]
    }
   ],
   "source": [
    "input_string = \"Hello World\"\n",
    "lowercase_count = count_lowercase_letters(input_string)\n",
    "print(\"Number of lowercase letters:\", lowercase_count)"
   ]
  },
  {
   "cell_type": "code",
   "execution_count": 17,
   "id": "a178df2a-820b-45a8-a0bd-524da397b584",
   "metadata": {},
   "outputs": [],
   "source": [
    "#Q.28. Swap the case of each character in a string.\n",
    "def swap_case(input_string):\n",
    "    return input_string.swapcase()"
   ]
  },
  {
   "cell_type": "code",
   "execution_count": 18,
   "id": "697f06c7-5b78-44f9-849b-31b76004d296",
   "metadata": {},
   "outputs": [
    {
     "name": "stdout",
     "output_type": "stream",
     "text": [
      "Swapped string: hELLO wORLD\n"
     ]
    }
   ],
   "source": [
    "input_string = \"Hello World\"\n",
    "swapped_string = swap_case(input_string)\n",
    "print(\"Swapped string:\", swapped_string)"
   ]
  },
  {
   "cell_type": "code",
   "execution_count": 19,
   "id": "8c3caa8e-0955-435d-ba06-a9d4f56e6a56",
   "metadata": {},
   "outputs": [],
   "source": [
    "#Q.29. Remove a specific word from a string.\n",
    "def remove_word(input_string, word_to_remove):\n",
    "    # Replace the word with an empty string to remove it\n",
    "    return input_string.replace(word_to_remove, \"\")"
   ]
  },
  {
   "cell_type": "code",
   "execution_count": 20,
   "id": "7548dcf9-e9ab-4752-b5fe-0b09d37c3f39",
   "metadata": {},
   "outputs": [
    {
     "name": "stdout",
     "output_type": "stream",
     "text": [
      "Modified string: This is a sample sentence. Remove this .\n"
     ]
    }
   ],
   "source": [
    "input_string = \"This is a sample sentence. Remove this word.\"\n",
    "word_to_remove = \"word\"\n",
    "new_string = remove_word(input_string, word_to_remove)\n",
    "print(\"Modified string:\", new_string)"
   ]
  },
  {
   "cell_type": "code",
   "execution_count": 109,
   "id": "f97fa4f9-fa97-42e8-9454-ae83cd174ad1",
   "metadata": {},
   "outputs": [
    {
     "name": "stdout",
     "output_type": "stream",
     "text": [
      "'example.user@email.com' is a valid email address.\n"
     ]
    }
   ],
   "source": [
    "#Q.30. Check if a string is a valid email address.\n",
    "import re\n",
    "\n",
    "def is_valid_email(email):\n",
    "    # Define a regular expression pattern for valid email addresses\n",
    "    pattern = r'^[\\w\\.-]+@[\\w\\.-]+\\.\\w+$'\n",
    "    \n",
    "    # Use re.match to check if the string matches the pattern from the beginning\n",
    "    if re.match(pattern, email):\n",
    "        return True\n",
    "    else:\n",
    "        return False\n",
    "\n",
    "# Example usage:\n",
    "email_address = \"example.user@email.com\"\n",
    "if is_valid_email(email_address):\n",
    "    print(f\"'{email_address}' is a valid email address.\")\n",
    "else:\n",
    "    print(f\"'{email_address}' is not a valid email address.\")"
   ]
  },
  {
   "cell_type": "code",
   "execution_count": 108,
   "id": "4c3a1680-eab3-4ac3-8b79-ea37d2887950",
   "metadata": {},
   "outputs": [
    {
     "name": "stdout",
     "output_type": "stream",
     "text": [
      "The username in the email address is: example.user\n"
     ]
    }
   ],
   "source": [
    "#Q.31. Extract the username from an email address string.\n",
    "import re\n",
    "\n",
    "def extract_username_from_email(email):\n",
    "    # Define a regular expression pattern to match email addresses\n",
    "    pattern = r'([^@]+)@'\n",
    "    \n",
    "    # Use re.search to find the username part\n",
    "    match = re.search(pattern, email)\n",
    "    \n",
    "    if match:\n",
    "        return match.group(1)  # Return the matched username\n",
    "    else:\n",
    "        return None  # Return None if no username is found\n",
    "\n",
    "# Example usage:\n",
    "email_address = \"example.user@email.com\"\n",
    "username = extract_username_from_email(email_address)\n",
    "\n",
    "if username:\n",
    "    print(f\"The username in the email address is: {username}\")\n",
    "else:\n",
    "    print(\"No username found in the email address.\")"
   ]
  },
  {
   "cell_type": "code",
   "execution_count": 107,
   "id": "56a73d85-cbf1-4353-9c72-d8539f1a5f0e",
   "metadata": {},
   "outputs": [
    {
     "name": "stdout",
     "output_type": "stream",
     "text": [
      "The domain name in the email address is: email.com\n"
     ]
    }
   ],
   "source": [
    "#Q.32. Extract the domain name from an email address string.\n",
    "import re\n",
    "\n",
    "def extract_domain_from_email(email):\n",
    "    # Define a regular expression pattern to match email addresses\n",
    "    pattern = r'@([A-Za-z0-9.-]+)'\n",
    "    \n",
    "    # Use re.search to find the domain part\n",
    "    match = re.search(pattern, email)\n",
    "    \n",
    "    if match:\n",
    "        return match.group(1)  # Return the matched domain\n",
    "    else:\n",
    "        return None  # Return None if no domain is found\n",
    "\n",
    "# Example usage:\n",
    "email_address = \"example.user@email.com\"\n",
    "domain = extract_domain_from_email(email_address)\n",
    "\n",
    "if domain:\n",
    "    print(f\"The domain name in the email address is: {domain}\")\n",
    "else:\n",
    "    print(\"No domain found in the email address.\")"
   ]
  },
  {
   "cell_type": "code",
   "execution_count": 40,
   "id": "2889518c-b7c9-4e18-af54-9d4328ef642e",
   "metadata": {},
   "outputs": [],
   "source": [
    "#Q.33. Replace multiple spaces in a string with a single space.\n",
    "import re"
   ]
  },
  {
   "cell_type": "code",
   "execution_count": 41,
   "id": "f65bfa45-a286-48ee-ba08-8159ebfdfca4",
   "metadata": {},
   "outputs": [],
   "source": [
    "def replace_multiple_spaces(input_string):\n",
    "    # Use regular expression to replace multiple spaces with a single space\n",
    "    return re.sub(r'\\s+', ' ', input_string)"
   ]
  },
  {
   "cell_type": "code",
   "execution_count": 42,
   "id": "5ec41795-b71a-4ccc-ab0d-6b25064a6698",
   "metadata": {},
   "outputs": [
    {
     "name": "stdout",
     "output_type": "stream",
     "text": [
      "Modified string: This is a string with multiple spaces.\n"
     ]
    }
   ],
   "source": [
    "# Test the function with a string containing multiple spaces\n",
    "input_string = \"This    is   a    string   with   multiple   spaces.\"\n",
    "modified_string = replace_multiple_spaces(input_string)\n",
    "print(\"Modified string:\", modified_string)"
   ]
  },
  {
   "cell_type": "code",
   "execution_count": 43,
   "id": "07921428-623a-4834-a080-8213fd9b6e75",
   "metadata": {},
   "outputs": [],
   "source": [
    "#Q.34. Check if a string is a valid URL.\n",
    "from urllib.parse import urlparse"
   ]
  },
  {
   "cell_type": "code",
   "execution_count": 44,
   "id": "08f3a0ce-7271-4ec9-9ff6-fc6afccc1b4e",
   "metadata": {},
   "outputs": [],
   "source": [
    "def is_valid_url(url):\n",
    "    try:\n",
    "        parsed_url = urlparse(url)\n",
    "        return all([parsed_url.scheme, parsed_url.netloc])\n",
    "    except ValueError:\n",
    "        return False"
   ]
  },
  {
   "cell_type": "code",
   "execution_count": 45,
   "id": "965925e7-7d68-4b13-93e1-49c8cac2e328",
   "metadata": {},
   "outputs": [
    {
     "name": "stdout",
     "output_type": "stream",
     "text": [
      "https://www.example.com is a valid URL.\n"
     ]
    }
   ],
   "source": [
    "# Test the function with a URL\n",
    "url = \"https://www.example.com\"\n",
    "if is_valid_url(url):\n",
    "    print(f\"{url} is a valid URL.\")\n",
    "else:\n",
    "    print(f\"{url} is not a valid URL.\")"
   ]
  },
  {
   "cell_type": "code",
   "execution_count": 46,
   "id": "489475cc-bb6b-4c73-afb9-97e60594ed9f",
   "metadata": {},
   "outputs": [],
   "source": [
    "#Q.35. Extract the protocol (http or https) from a URL string.\n",
    "from urllib.parse import urlparse"
   ]
  },
  {
   "cell_type": "code",
   "execution_count": 47,
   "id": "0dd35fea-1784-49bb-9190-e07b0a375703",
   "metadata": {},
   "outputs": [],
   "source": [
    "def extract_protocol(url):\n",
    "    try:\n",
    "        parsed_url = urlparse(url)\n",
    "        return parsed_url.scheme\n",
    "    except ValueError:\n",
    "        return None"
   ]
  },
  {
   "cell_type": "code",
   "execution_count": 48,
   "id": "a0a4f97d-3337-4324-aa97-b597d075178d",
   "metadata": {},
   "outputs": [],
   "source": [
    "# Test the function with a URL\n",
    "url = \"https://www.example.com\"\n",
    "protocol = extract_protocol(url)"
   ]
  },
  {
   "cell_type": "code",
   "execution_count": 49,
   "id": "22d4ce4a-95aa-4b29-96ac-96fc54e663f5",
   "metadata": {},
   "outputs": [
    {
     "name": "stdout",
     "output_type": "stream",
     "text": [
      "The protocol is: https\n"
     ]
    }
   ],
   "source": [
    "if protocol:\n",
    "    print(f\"The protocol is: {protocol}\")\n",
    "else:\n",
    "    print(\"Invalid URL or no protocol found.\")"
   ]
  },
  {
   "cell_type": "code",
   "execution_count": 16,
   "id": "592e2538-2977-4634-a79a-2cf3a02ddeb2",
   "metadata": {},
   "outputs": [],
   "source": [
    "#Q.36. Find the frequency of each character in a string.\n",
    "from collections import Counter"
   ]
  },
  {
   "cell_type": "code",
   "execution_count": 17,
   "id": "bf72d7f5-6ebc-4639-b255-88a5463b6314",
   "metadata": {},
   "outputs": [],
   "source": [
    "# Input string\n",
    "input_string = \"Hello, World!\""
   ]
  },
  {
   "cell_type": "code",
   "execution_count": 18,
   "id": "e304213c-717f-4062-9855-b83c2d9ccaff",
   "metadata": {},
   "outputs": [],
   "source": [
    "# Use Counter to count character frequencies\n",
    "frequency_dict = Counter(input_string)"
   ]
  },
  {
   "cell_type": "code",
   "execution_count": 19,
   "id": "7dc63713-ccf5-44ee-8f70-bafe8535158f",
   "metadata": {},
   "outputs": [
    {
     "name": "stdout",
     "output_type": "stream",
     "text": [
      "Character 'H' appears 1 times\n",
      "Character 'e' appears 1 times\n",
      "Character 'l' appears 3 times\n",
      "Character 'o' appears 2 times\n",
      "Character ',' appears 1 times\n",
      "Character ' ' appears 1 times\n",
      "Character 'W' appears 1 times\n",
      "Character 'r' appears 1 times\n",
      "Character 'd' appears 1 times\n",
      "Character '!' appears 1 times\n"
     ]
    }
   ],
   "source": [
    "# Display the character frequencies\n",
    "for char, count in frequency_dict.items():\n",
    "    print(f\"Character '{char}' appears {count} times\")"
   ]
  },
  {
   "cell_type": "code",
   "execution_count": 100,
   "id": "3048776d-e8bf-4915-9502-c3c7dc0affce",
   "metadata": {},
   "outputs": [
    {
     "name": "stdout",
     "output_type": "stream",
     "text": [
      "String with punctuation removed:\n",
      "Hello world This is an example string with punctuation\n"
     ]
    }
   ],
   "source": [
    "#Q.37. Remove all punctuation from a string.\n",
    "import string\n",
    "import re\n",
    "\n",
    "def remove_punctuation(input_string):\n",
    "    # Remove punctuation using the translate method\n",
    "    translator = str.maketrans('', '', string.punctuation)\n",
    "    cleaned_string = input_string.translate(translator)\n",
    "\n",
    "    # Alternatively, you can use regular expressions to remove punctuation\n",
    "    # cleaned_string = re.sub(r'[^\\w\\s]', '', input_string)\n",
    "\n",
    "    return cleaned_string\n",
    "\n",
    "# Example usage:\n",
    "input_string = \"Hello, world! This is an example string with punctuation.\"\n",
    "\n",
    "cleaned_string = remove_punctuation(input_string)\n",
    "print(\"String with punctuation removed:\")\n",
    "print(cleaned_string)"
   ]
  },
  {
   "cell_type": "code",
   "execution_count": 32,
   "id": "97e98aaa-cd74-4f61-b954-4b3093ab22da",
   "metadata": {},
   "outputs": [],
   "source": [
    "#Q.38. Check if a string contains only digits.\n",
    "# Function to check if a string contains only digits\n",
    "def contains_only_digits(input_string):\n",
    "    return input_string.isdigit()"
   ]
  },
  {
   "cell_type": "code",
   "execution_count": 33,
   "id": "db1dcd38-b776-4577-9e8d-566d69bf1d25",
   "metadata": {},
   "outputs": [],
   "source": [
    "# Input string\n",
    "input_string = \"12345\""
   ]
  },
  {
   "cell_type": "code",
   "execution_count": 34,
   "id": "da4ed7bd-def8-4e04-8b41-ae75ef32986c",
   "metadata": {},
   "outputs": [
    {
     "name": "stdout",
     "output_type": "stream",
     "text": [
      "The string contains only digits.\n"
     ]
    }
   ],
   "source": [
    "# Check if the string contains only digits\n",
    "if contains_only_digits(input_string):\n",
    "    print(\"The string contains only digits.\")\n",
    "else:\n",
    "    print(\"The string contains non-digit characters.\")"
   ]
  },
  {
   "cell_type": "code",
   "execution_count": 35,
   "id": "387529a7-9bf4-4883-b66d-37ebaa57140b",
   "metadata": {},
   "outputs": [],
   "source": [
    "#Q.39. Check if a string contains only alphabets.\n",
    "# Function to check if a string contains only alphabets\n",
    "def contains_only_alphabets(input_string):\n",
    "    return input_string.isalpha()"
   ]
  },
  {
   "cell_type": "code",
   "execution_count": 36,
   "id": "86588b5b-c4b6-44ab-823f-204ae60d08fc",
   "metadata": {},
   "outputs": [],
   "source": [
    "# Input string\n",
    "input_string = \"HelloWorld\""
   ]
  },
  {
   "cell_type": "code",
   "execution_count": 37,
   "id": "56939da6-4a42-4c1c-acbe-1912ac2ef8f6",
   "metadata": {},
   "outputs": [
    {
     "name": "stdout",
     "output_type": "stream",
     "text": [
      "The string contains only alphabets.\n"
     ]
    }
   ],
   "source": [
    "# Check if the string contains only alphabets\n",
    "if contains_only_alphabets(input_string):\n",
    "    print(\"The string contains only alphabets.\")\n",
    "else:\n",
    "    print(\"The string contains non-alphabetic characters.\")"
   ]
  },
  {
   "cell_type": "code",
   "execution_count": 38,
   "id": "7a6b5655-1bc2-458c-baa2-87c1323d45c6",
   "metadata": {},
   "outputs": [],
   "source": [
    "#Q.40. Convert a string to a list of characters.\n",
    "# Function to convert a string to a list of characters\n",
    "def string_to_list(input_string):\n",
    "    char_list = []\n",
    "    for char in input_string:\n",
    "        char_list.append(char)\n",
    "    return char_list"
   ]
  },
  {
   "cell_type": "code",
   "execution_count": 39,
   "id": "a6aa0d7e-d53a-4492-8049-5bf52d037cfc",
   "metadata": {},
   "outputs": [],
   "source": [
    "# Input string\n",
    "input_string = \"Hello, World!\""
   ]
  },
  {
   "cell_type": "code",
   "execution_count": 40,
   "id": "f55b8c51-1cdd-49db-bcd2-5685666f87d0",
   "metadata": {},
   "outputs": [],
   "source": [
    "# Convert the string to a list of characters\n",
    "char_list = string_to_list(input_string)"
   ]
  },
  {
   "cell_type": "code",
   "execution_count": 41,
   "id": "662fae32-637d-4998-9cc3-ac549e9cfa07",
   "metadata": {},
   "outputs": [
    {
     "name": "stdout",
     "output_type": "stream",
     "text": [
      "['H', 'e', 'l', 'l', 'o', ',', ' ', 'W', 'o', 'r', 'l', 'd', '!']\n"
     ]
    }
   ],
   "source": [
    "# Print the list of characters\n",
    "print(char_list)"
   ]
  },
  {
   "cell_type": "code",
   "execution_count": 99,
   "id": "a7960d43-93ab-4e05-9182-71f6285f35be",
   "metadata": {},
   "outputs": [
    {
     "name": "stdout",
     "output_type": "stream",
     "text": [
      "'listen' and 'silent' are anagrams.\n"
     ]
    }
   ],
   "source": [
    "#Q.41. Check if two strings are anagrams.\n",
    "def are_anagrams(str1, str2):\n",
    "    # Remove spaces and convert both strings to lowercase\n",
    "    str1 = str1.replace(\" \", \"\").lower()\n",
    "    str2 = str2.replace(\" \", \"\").lower()\n",
    "    \n",
    "    # Check if the lengths of the two strings are equal\n",
    "    if len(str1) != len(str2):\n",
    "        return False\n",
    "    \n",
    "    # Create dictionaries to store character counts for each string\n",
    "    char_count1 = {}\n",
    "    char_count2 = {}\n",
    "    \n",
    "    # Count the characters in the first string\n",
    "    for char in str1:\n",
    "        char_count1[char] = char_count1.get(char, 0) + 1\n",
    "    \n",
    "    # Count the characters in the second string\n",
    "    for char in str2:\n",
    "        char_count2[char] = char_count2.get(char, 0) + 1\n",
    "    \n",
    "    # Compare the character counts\n",
    "    return char_count1 == char_count2\n",
    "\n",
    "# Example usage:\n",
    "string1 = \"listen\"\n",
    "string2 = \"silent\"\n",
    "\n",
    "if are_anagrams(string1, string2):\n",
    "    print(f\"'{string1}' and '{string2}' are anagrams.\")\n",
    "else:\n",
    "    print(f\"'{string1}' and '{string2}' are not anagrams.\")"
   ]
  },
  {
   "cell_type": "code",
   "execution_count": 98,
   "id": "e0e28c12-4a4a-4be7-9d39-ad76281a39ae",
   "metadata": {},
   "outputs": [
    {
     "name": "stdout",
     "output_type": "stream",
     "text": [
      "Encoded string:\n",
      "Wklv lv d vhfuhw phvvdjh. Wklv lv d vhfuhw nhb.\n"
     ]
    }
   ],
   "source": [
    "#Q.42. Encode a string using a Caesar cipher.\n",
    "def caesar_cipher_encode(input_string, shift):\n",
    "    encoded_string = \"\"\n",
    "    \n",
    "    for char in input_string:\n",
    "        # Check if the character is a letter\n",
    "        if char.isalpha():\n",
    "            # Determine if the character is uppercase or lowercase\n",
    "            is_upper = char.isupper()\n",
    "            \n",
    "            # Convert the character to lowercase for easier manipulation\n",
    "            char = char.lower()\n",
    "            \n",
    "            # Perform the Caesar cipher shift\n",
    "            encoded_char = chr(((ord(char) - ord('a') + shift) % 26) + ord('a'))\n",
    "            \n",
    "            # If the original character was uppercase, convert the encoded character to uppercase\n",
    "            if is_upper:\n",
    "                encoded_char = encoded_char.upper()\n",
    "            \n",
    "            encoded_string += encoded_char\n",
    "        else:\n",
    "            # If the character is not a letter, add it to the encoded string unchanged\n",
    "            encoded_string += char\n",
    "    \n",
    "    return encoded_string\n",
    "\n",
    "# Example usage:\n",
    "input_string = \"This is a secret message. This is a secret key.\"\n",
    "shift = 3  # The number of positions to shift the characters in the alphabet\n",
    "\n",
    "encoded_string = caesar_cipher_encode(input_string, shift)\n",
    "print(\"Encoded string:\")\n",
    "print(encoded_string)"
   ]
  },
  {
   "cell_type": "code",
   "execution_count": 97,
   "id": "8ab3eab4-c399-4a28-8a0a-b53be1705a19",
   "metadata": {},
   "outputs": [
    {
     "name": "stdout",
     "output_type": "stream",
     "text": [
      "Decoded string:\n",
      "This is a test message storly test a message. This is a test umph test reame.\n"
     ]
    }
   ],
   "source": [
    "#Q.43. Decode a Caesar cipher encoded string.\n",
    "def caesar_cipher_decode(encoded_string, shift):\n",
    "    decoded_string = \"\"\n",
    "    \n",
    "    for char in encoded_string:\n",
    "        # Check if the character is a letter\n",
    "        if char.isalpha():\n",
    "            # Determine if the character is uppercase or lowercase\n",
    "            is_upper = char.isupper()\n",
    "            \n",
    "            # Convert the character to lowercase for easier manipulation\n",
    "            char = char.lower()\n",
    "            \n",
    "            # Perform the reverse Caesar cipher shift\n",
    "            decoded_char = chr(((ord(char) - ord('a') - shift) % 26) + ord('a'))\n",
    "            \n",
    "            # If the original character was uppercase, convert the decoded character to uppercase\n",
    "            if is_upper:\n",
    "                decoded_char = decoded_char.upper()\n",
    "            \n",
    "            decoded_string += decoded_char\n",
    "        else:\n",
    "            # If the character is not a letter, add it to the decoded string unchanged\n",
    "            decoded_string += char\n",
    "    \n",
    "    return decoded_string\n",
    "\n",
    "# Example usage:\n",
    "encoded_string = \"Wklv lv d whvw phvvdjh vwruob whvw d phvvdjh. Wklv lv d whvw xpsk whvw uhdph.\"\n",
    "shift = 3  # The number of positions the characters were shifted during encoding\n",
    "\n",
    "decoded_string = caesar_cipher_decode(encoded_string, shift)\n",
    "print(\"Decoded string:\")\n",
    "print(decoded_string)"
   ]
  },
  {
   "cell_type": "code",
   "execution_count": 96,
   "id": "451b5cfd-3a44-4103-b1f1-631c0f00bf6e",
   "metadata": {},
   "outputs": [
    {
     "name": "stdout",
     "output_type": "stream",
     "text": [
      "The most frequent word in the string is: this\n"
     ]
    }
   ],
   "source": [
    "#Q.44. Find the most frequent word in a string.\n",
    "def most_frequent_word(input_string):\n",
    "    # Tokenize the string into words\n",
    "    words = input_string.split()\n",
    "    \n",
    "    # Create a dictionary to store word frequencies\n",
    "    word_freq = {}\n",
    "    \n",
    "    # Iterate through the words and update frequencies\n",
    "    for word in words:\n",
    "        word = word.lower()  # Convert to lowercase for case-insensitive counting\n",
    "        word_freq[word] = word_freq.get(word, 0) + 1\n",
    "    \n",
    "    # Find the word with the highest frequency\n",
    "    most_frequent = max(word_freq, key=word_freq.get)\n",
    "    \n",
    "    return most_frequent\n",
    "\n",
    "# Example usage:\n",
    "input_string = \"This is a sample string. This string contains sample words, and some words may repeat.\"\n",
    "most_freq_word = most_frequent_word(input_string)\n",
    "\n",
    "print(f\"The most frequent word in the string is: {most_freq_word}\")"
   ]
  },
  {
   "cell_type": "code",
   "execution_count": 91,
   "id": "13e15155-de65-477d-8504-41b6195420c5",
   "metadata": {},
   "outputs": [
    {
     "name": "stdout",
     "output_type": "stream",
     "text": [
      "Unique words in the string:\n",
      "repeat\n",
      "is\n",
      "some\n",
      "may\n",
      "sample\n",
      "words\n",
      "and\n",
      "contains\n",
      "string\n",
      "it\n",
      "this\n",
      "a\n"
     ]
    }
   ],
   "source": [
    "#Q.45. Find all unique words in a string.\n",
    "import re\n",
    "\n",
    "def find_unique_words(input_string):\n",
    "    # Use regular expressions to split the string into words\n",
    "    words = re.findall(r'\\b\\w+\\b', input_string.lower())\n",
    "\n",
    "    # Create a set to store unique words\n",
    "    unique_words = set(words)\n",
    "\n",
    "    return unique_words\n",
    "\n",
    "# Example usage:\n",
    "input_string = \"This is a sample string. It contains sample words, and some words may repeat.\"\n",
    "unique_words = find_unique_words(input_string)\n",
    "\n",
    "print(\"Unique words in the string:\")\n",
    "for word in unique_words:\n",
    "    print(word)"
   ]
  },
  {
   "cell_type": "code",
   "execution_count": 90,
   "id": "590b319f-6b2e-4ba3-8eb3-ac60ef609d19",
   "metadata": {},
   "outputs": [
    {
     "name": "stdout",
     "output_type": "stream",
     "text": [
      "The number of syllables in 'Hello' is 2\n"
     ]
    }
   ],
   "source": [
    "#Q.46. Count the number of syllables in a string.\n",
    "def count_syllables(string):\n",
    "    vowels = \"aeiouAEIOU\"\n",
    "    count = 0\n",
    "    previous_char = ''\n",
    "\n",
    "    for char in string:\n",
    "        char = char.lower()\n",
    "        if char in vowels and previous_char not in vowels:\n",
    "            count += 1\n",
    "        previous_char = char\n",
    "\n",
    "    if string.endswith('e'):\n",
    "        count -= 1  # Remove the silent 'e' at the end\n",
    "\n",
    "    if count == 0:\n",
    "        count = 1  # At least one syllable if no vowels found\n",
    "\n",
    "    return count\n",
    "\n",
    "# Example usage:\n",
    "input_string = \"Hello\"\n",
    "syllable_count = count_syllables(input_string)\n",
    "print(f\"The number of syllables in '{input_string}' is {syllable_count}\")"
   ]
  },
  {
   "cell_type": "code",
   "execution_count": 92,
   "id": "12cdf7cd-0286-4656-9cd3-38d8689f4c63",
   "metadata": {},
   "outputs": [
    {
     "name": "stdout",
     "output_type": "stream",
     "text": [
      "The string 'Hello123' does not contain any special characters.\n"
     ]
    }
   ],
   "source": [
    "#Q.47. Check if a string contains any special characters.\n",
    "import re\n",
    "\n",
    "def contains_special_characters(input_string):\n",
    "    # Define a regular expression pattern for special characters\n",
    "    pattern = r'[!@#$%^&*()_+{}\\[\\]:;<>,.?~\\\\|]'\n",
    "    \n",
    "    # Use re.search to find a match\n",
    "    if re.search(pattern, input_string):\n",
    "        return True\n",
    "    else:\n",
    "        return False\n",
    "\n",
    "# Example usage:\n",
    "input_string = \"Hello123\"\n",
    "contains_special = contains_special_characters(input_string)\n",
    "\n",
    "if contains_special:\n",
    "    print(f\"The string '{input_string}' contains special characters.\")\n",
    "else:\n",
    "    print(f\"The string '{input_string}' does not contain any special characters.\")"
   ]
  },
  {
   "cell_type": "code",
   "execution_count": 93,
   "id": "a922590f-d0ff-4c9c-9ed1-e99587d6c35c",
   "metadata": {},
   "outputs": [
    {
     "name": "stdout",
     "output_type": "stream",
     "text": [
      "Modified string:\n",
      "This is a sentence to test the function.\n"
     ]
    }
   ],
   "source": [
    "#Q.48. Remove the nth word from a string.\n",
    "def remove_nth_word(input_string, n):\n",
    "    # Split the input string into words\n",
    "    words = input_string.split()\n",
    "\n",
    "    # Check if the specified index is within the valid range\n",
    "    if n >= 0 and n < len(words):\n",
    "        # Remove the nth word\n",
    "        del words[n]\n",
    "        # Join the remaining words back into a string\n",
    "        result_string = ' '.join(words)\n",
    "        return result_string\n",
    "    else:\n",
    "        # If n is out of range, return the original string\n",
    "        return input_string\n",
    "\n",
    "# Example usage:\n",
    "input_string = \"This is a sample sentence to test the function.\"\n",
    "n = 3  # Remove the 3rd word (indexing starts from 0)\n",
    "\n",
    "result = remove_nth_word(input_string, n)\n",
    "print(\"Modified string:\")\n",
    "print(result)"
   ]
  },
  {
   "cell_type": "code",
   "execution_count": 94,
   "id": "bf8aa2e2-7f1a-4037-8d93-5e50f89421a2",
   "metadata": {},
   "outputs": [
    {
     "name": "stdout",
     "output_type": "stream",
     "text": [
      "Modified string:\n",
      "This is a inserted sample sentence to test the function.\n"
     ]
    }
   ],
   "source": [
    "#Q.49. Insert a word at the nth position in a string.\n",
    "def insert_word_at_nth_position(input_string, new_word, n):\n",
    "    # Split the input string into words\n",
    "    words = input_string.split()\n",
    "\n",
    "    # Check if the specified index is within the valid range\n",
    "    if n >= 0 and n <= len(words):\n",
    "        # Insert the new word at the nth position\n",
    "        words.insert(n, new_word)\n",
    "        # Join the words back into a string\n",
    "        result_string = ' '.join(words)\n",
    "        return result_string\n",
    "    else:\n",
    "        # If n is out of range, return the original string\n",
    "        return input_string\n",
    "\n",
    "# Example usage:\n",
    "input_string = \"This is a sample sentence to test the function.\"\n",
    "new_word = \"inserted\"\n",
    "n = 3  # Insert the new word at the 3rd position (indexing starts from 0)\n",
    "\n",
    "result = insert_word_at_nth_position(input_string, new_word, n)\n",
    "print(\"Modified string:\")\n",
    "print(result)"
   ]
  },
  {
   "cell_type": "code",
   "execution_count": 95,
   "id": "ad0d4d94-4c60-43af-8a61-0761203baf56",
   "metadata": {},
   "outputs": [
    {
     "name": "stdout",
     "output_type": "stream",
     "text": [
      "List of lists:\n",
      "['John', 'Doe', '30']\n",
      "['Jane', 'Smith', '25']\n",
      "['Bob', 'Johnson', '35']\n"
     ]
    }
   ],
   "source": [
    "#Q.50. Convert a CSV string to a list of lists.\n",
    "import csv\n",
    "from io import StringIO\n",
    "\n",
    "def csv_string_to_list(csv_string):\n",
    "    # Create a StringIO object to simulate a file-like object from the CSV string\n",
    "    csv_file = StringIO(csv_string)\n",
    "    \n",
    "    # Initialize a CSV reader\n",
    "    reader = csv.reader(csv_file)\n",
    "    \n",
    "    # Use the reader to read the CSV data into a list of lists\n",
    "    csv_list = [row for row in reader]\n",
    "    \n",
    "    return csv_list\n",
    "\n",
    "# Example usage:\n",
    "csv_string = \"John,Doe,30\\nJane,Smith,25\\nBob,Johnson,35\"\n",
    "csv_list = csv_string_to_list(csv_string)\n",
    "\n",
    "print(\"List of lists:\")\n",
    "for row in csv_list:\n",
    "    print(row)"
   ]
  },
  {
   "cell_type": "code",
   "execution_count": 110,
   "id": "8fdb114e-23c3-4188-839d-d5f7fe367d4c",
   "metadata": {},
   "outputs": [],
   "source": [
    "# LIST BASED\n",
    "#Q.1. Create a list with integers from 1 to 10.\n",
    "my_list = [x for x in range(1, 11)]"
   ]
  },
  {
   "cell_type": "code",
   "execution_count": 113,
   "id": "4a3835f2-5842-4b11-aaa1-b517c2086dcf",
   "metadata": {},
   "outputs": [
    {
     "data": {
      "text/plain": [
       "[1, 2, 3, 4, 5, 6, 7, 8, 9, 10]"
      ]
     },
     "execution_count": 113,
     "metadata": {},
     "output_type": "execute_result"
    }
   ],
   "source": [
    "my_list"
   ]
  },
  {
   "cell_type": "code",
   "execution_count": 114,
   "id": "d1e621bc-c86d-4d0a-9354-03a358316539",
   "metadata": {},
   "outputs": [
    {
     "name": "stdout",
     "output_type": "stream",
     "text": [
      "The length of the list is: 10\n"
     ]
    }
   ],
   "source": [
    "#Q.2. Find the length of a list without using the `len()` function.\n",
    "def calculate_list_length(my_list):\n",
    "    length = 0\n",
    "    for _ in my_list:\n",
    "        length += 1\n",
    "    return length\n",
    "\n",
    "# Example usage:\n",
    "my_list = [1, 2, 3, 4, 5, 6, 7, 8, 9, 10]\n",
    "list_length = calculate_list_length(my_list)\n",
    "\n",
    "print(f\"The length of the list is: {list_length}\")"
   ]
  },
  {
   "cell_type": "code",
   "execution_count": 115,
   "id": "8ae98819-4add-4be0-964b-6629f6ed5ed0",
   "metadata": {},
   "outputs": [
    {
     "name": "stdout",
     "output_type": "stream",
     "text": [
      "[1, 2, 3, 4, 5, 6]\n"
     ]
    }
   ],
   "source": [
    "#Q.3. Append an element to the end of a list.\n",
    "my_list = [1, 2, 3, 4, 5]  # Existing list\n",
    "new_element = 6  # Element to append\n",
    "\n",
    "my_list.append(new_element)  # Append the new element to the end of the list\n",
    "\n",
    "print(my_list)"
   ]
  },
  {
   "cell_type": "code",
   "execution_count": 116,
   "id": "7d2ed98a-d766-45fa-a727-e527f2b25384",
   "metadata": {},
   "outputs": [
    {
     "name": "stdout",
     "output_type": "stream",
     "text": [
      "[1, 2, 6, 3, 4, 5]\n"
     ]
    }
   ],
   "source": [
    "#Q.4. Insert an element at a specific index in a list.\n",
    "my_list = [1, 2, 3, 4, 5]  # Existing list\n",
    "element_to_insert = 6  # Element to insert\n",
    "index_to_insert = 2  # Index at which to insert the element\n",
    "\n",
    "my_list.insert(index_to_insert, element_to_insert)  # Insert the element at the specified index\n",
    "\n",
    "print(my_list)"
   ]
  },
  {
   "cell_type": "code",
   "execution_count": 117,
   "id": "0ca99410-d015-4050-a43b-e8a0410539db",
   "metadata": {},
   "outputs": [
    {
     "name": "stdout",
     "output_type": "stream",
     "text": [
      "[1, 2, 4, 5]\n"
     ]
    }
   ],
   "source": [
    "#Q.5. Remove an element from a list by its value.\n",
    "my_list = [1, 2, 3, 4, 5]  # Existing list\n",
    "element_to_remove = 3  # Element to remove\n",
    "\n",
    "if element_to_remove in my_list:\n",
    "    my_list.remove(element_to_remove)  # Remove the element by its value\n",
    "\n",
    "print(my_list)"
   ]
  },
  {
   "cell_type": "code",
   "execution_count": 118,
   "id": "4cf2350b-6003-4c4d-9983-1853ddf00394",
   "metadata": {},
   "outputs": [
    {
     "name": "stdout",
     "output_type": "stream",
     "text": [
      "Removed element: 3\n",
      "[1, 2, 4, 5]\n"
     ]
    }
   ],
   "source": [
    "#Q.6. Remove an element from a list by its index.\n",
    "my_list = [1, 2, 3, 4, 5]  # Existing list\n",
    "index_to_remove = 2  # Index of the element to remove\n",
    "\n",
    "if 0 <= index_to_remove < len(my_list):\n",
    "    removed_element = my_list.pop(index_to_remove)  # Remove the element at the specified index\n",
    "    print(f\"Removed element: {removed_element}\")\n",
    "else:\n",
    "    print(\"Invalid index, element not removed.\")\n",
    "\n",
    "print(my_list)"
   ]
  },
  {
   "cell_type": "code",
   "execution_count": 119,
   "id": "2d086b89-34b7-4117-8ee5-87979dd733a8",
   "metadata": {},
   "outputs": [
    {
     "name": "stdout",
     "output_type": "stream",
     "text": [
      "3 exists in the list.\n"
     ]
    }
   ],
   "source": [
    "#Q.7. Check if an element exists in a list.\n",
    "my_list = [1, 2, 3, 4, 5]\n",
    "element_to_check = 3\n",
    "\n",
    "if element_to_check in my_list:\n",
    "    print(f\"{element_to_check} exists in the list.\")\n",
    "else:\n",
    "    print(f\"{element_to_check} does not exist in the list.\")"
   ]
  },
  {
   "cell_type": "code",
   "execution_count": 120,
   "id": "5acfa588-c552-4e73-8331-565982a56746",
   "metadata": {},
   "outputs": [
    {
     "name": "stdout",
     "output_type": "stream",
     "text": [
      "3 exists in the list.\n"
     ]
    }
   ],
   "source": [
    "#Q.8. Find the index of the first occurrence of an element in a list.\n",
    "def element_exists(my_list, element_to_check):\n",
    "    return element_to_check in my_list\n",
    "\n",
    "my_list = [1, 2, 3, 4, 5]\n",
    "element_to_check = 3\n",
    "\n",
    "if element_exists(my_list, element_to_check):\n",
    "    print(f\"{element_to_check} exists in the list.\")\n",
    "else:\n",
    "    print(f\"{element_to_check} does not exist in the list.\")"
   ]
  },
  {
   "cell_type": "code",
   "execution_count": 121,
   "id": "027d617f-593b-4f52-a25a-cda6ee6ff30c",
   "metadata": {},
   "outputs": [
    {
     "name": "stdout",
     "output_type": "stream",
     "text": [
      "The element 3 appears 3 times in the list.\n"
     ]
    }
   ],
   "source": [
    "#Q.9. Count the occurrences of an element in a list.\n",
    "my_list = [1, 2, 3, 4, 5, 3, 3]  # Existing list\n",
    "element_to_count = 3  # Element to count\n",
    "\n",
    "element_count = my_list.count(element_to_count)  # Count the occurrences of the element\n",
    "\n",
    "print(f\"The element {element_to_count} appears {element_count} times in the list.\")"
   ]
  },
  {
   "cell_type": "code",
   "execution_count": 122,
   "id": "e5735b94-77e7-417e-993d-54246594a684",
   "metadata": {},
   "outputs": [
    {
     "name": "stdout",
     "output_type": "stream",
     "text": [
      "[5, 4, 3, 2, 1]\n"
     ]
    }
   ],
   "source": [
    "#Q.10. Reverse the order of elements in a list.\n",
    "my_list = [1, 2, 3, 4, 5]  # Existing list\n",
    "\n",
    "my_list.reverse()  # Reverse the list in-place\n",
    "\n",
    "print(my_list)"
   ]
  },
  {
   "cell_type": "code",
   "execution_count": 123,
   "id": "0ed5bc51-db23-4ec4-b060-bdd5cb2c8edf",
   "metadata": {},
   "outputs": [
    {
     "name": "stdout",
     "output_type": "stream",
     "text": [
      "[1, 1, 2, 3, 3, 4, 5, 5, 5, 6, 9]\n"
     ]
    }
   ],
   "source": [
    "#Q.11. Sort a list in ascending order.\n",
    "my_list = [3, 1, 4, 1, 5, 9, 2, 6, 5, 3, 5]  # Existing list\n",
    "\n",
    "my_list.sort()  # Sort the list in ascending order\n",
    "\n",
    "print(my_list)"
   ]
  },
  {
   "cell_type": "code",
   "execution_count": 124,
   "id": "32957cf9-15dc-43bd-bdbd-95d7383de228",
   "metadata": {},
   "outputs": [
    {
     "name": "stdout",
     "output_type": "stream",
     "text": [
      "[9, 6, 5, 5, 5, 4, 3, 3, 2, 1, 1]\n"
     ]
    }
   ],
   "source": [
    "#Q.12. Sort a list in descending order.\n",
    "my_list = [3, 1, 4, 1, 5, 9, 2, 6, 5, 3, 5]  # Existing list\n",
    "\n",
    "my_list.sort(reverse=True)  # Sort the list in descending order\n",
    "\n",
    "print(my_list)"
   ]
  },
  {
   "cell_type": "code",
   "execution_count": 125,
   "id": "5f13ab9a-fe58-4a39-937c-ee3de1d1e1fe",
   "metadata": {},
   "outputs": [
    {
     "name": "stdout",
     "output_type": "stream",
     "text": [
      "[2, 4, 6, 8, 10, 12, 14, 16, 18, 20]\n"
     ]
    }
   ],
   "source": [
    "#Q.13. Create a list of even numbers from 1 to 20.\n",
    "even_numbers = [x for x in range(2, 21, 2)]\n",
    "\n",
    "# This list comprehension generates even numbers from 2 to 20 (inclusive).\n",
    "# The range starts at 2 and goes up to 20, incrementing by 2 in each step.\n",
    "\n",
    "print(even_numbers)"
   ]
  },
  {
   "cell_type": "code",
   "execution_count": 126,
   "id": "97c090ce-b1ae-4a7f-a2dc-0206e95b824b",
   "metadata": {},
   "outputs": [
    {
     "name": "stdout",
     "output_type": "stream",
     "text": [
      "[1, 3, 5, 7, 9, 11, 13, 15, 17, 19]\n"
     ]
    }
   ],
   "source": [
    "#Q.14. Create a list of odd numbers from 1 to 20.\n",
    "odd_numbers = [x for x in range(1, 21) if x % 2 != 0]\n",
    "\n",
    "# This list comprehension generates odd numbers from 1 to 20.\n",
    "# The range starts at 1 and goes up to 20, and the condition x % 2 != 0 ensures that only odd numbers are included.\n",
    "\n",
    "print(odd_numbers)"
   ]
  },
  {
   "cell_type": "code",
   "execution_count": 127,
   "id": "c499d3b1-3f03-442f-8d1f-f957ae32d3fd",
   "metadata": {},
   "outputs": [
    {
     "name": "stdout",
     "output_type": "stream",
     "text": [
      "The sum of all elements in the list is: 15\n"
     ]
    }
   ],
   "source": [
    "#Q.15. Find the sum of all elements in a list.\n",
    "my_list = [1, 2, 3, 4, 5]  # Replace this with your list\n",
    "\n",
    "list_sum = sum(my_list)\n",
    "\n",
    "print(f\"The sum of all elements in the list is: {list_sum}\")"
   ]
  },
  {
   "cell_type": "code",
   "execution_count": 128,
   "id": "8c6272fd-72a5-4d17-8c43-df7306309bb4",
   "metadata": {},
   "outputs": [
    {
     "name": "stdout",
     "output_type": "stream",
     "text": [
      "The maximum value in the list is: 12\n"
     ]
    }
   ],
   "source": [
    "#Q.16. Find the maximum value in a list.\n",
    "my_list = [4, 2, 9, 7, 5, 12, 1]  # Replace this with your list\n",
    "\n",
    "max_value = max(my_list)\n",
    "\n",
    "print(f\"The maximum value in the list is: {max_value}\")"
   ]
  },
  {
   "cell_type": "code",
   "execution_count": 130,
   "id": "6d00277c-0ccc-43ba-b09d-9d8b01f88e08",
   "metadata": {},
   "outputs": [
    {
     "name": "stdout",
     "output_type": "stream",
     "text": [
      "The minimum value in the list is: 1\n"
     ]
    }
   ],
   "source": [
    "#Q.17. Find the minimum value in a list.\n",
    "my_list = [4, 2, 9, 7, 5, 12, 1]  # Replace this with your list\n",
    "\n",
    "min_value = min(my_list)\n",
    "\n",
    "print(f\"The minimum value in the list is: {min_value}\")"
   ]
  },
  {
   "cell_type": "code",
   "execution_count": 131,
   "id": "e45a6835-3372-4b69-bccf-2aed468475c5",
   "metadata": {},
   "outputs": [
    {
     "name": "stdout",
     "output_type": "stream",
     "text": [
      "[1, 4, 9, 16, 25, 36, 49, 64, 81, 100]\n"
     ]
    }
   ],
   "source": [
    "#Q.18. Create a list of squares of numbers from 1 to 10.\n",
    "squares_list = [x**2 for x in range(1, 11)]\n",
    "\n",
    "# This list comprehension generates the squares of numbers from 1 to 10.\n",
    "\n",
    "print(squares_list)"
   ]
  },
  {
   "cell_type": "code",
   "execution_count": 132,
   "id": "66a64455-7369-493e-8ff8-feacd3a41045",
   "metadata": {},
   "outputs": [
    {
     "name": "stdout",
     "output_type": "stream",
     "text": [
      "[47, 70, 94, 64, 77, 52, 66, 94, 9, 16]\n"
     ]
    }
   ],
   "source": [
    "#Q.19. Create a list of random numbers.\n",
    "import random\n",
    "\n",
    "# Generate a list of 10 random integers between 1 and 100 (inclusive)\n",
    "random_numbers = [random.randint(1, 100) for _ in range(10)]\n",
    "\n",
    "print(random_numbers)"
   ]
  },
  {
   "cell_type": "code",
   "execution_count": 133,
   "id": "dbcdcd80-3290-48d1-89e7-c1a35808207b",
   "metadata": {},
   "outputs": [
    {
     "name": "stdout",
     "output_type": "stream",
     "text": [
      "[1, 2, 3, 4, 5, 6, 7]\n"
     ]
    }
   ],
   "source": [
    "#Q.20. Remove duplicates from a list.\n",
    "my_list = [1, 2, 2, 3, 4, 4, 5, 6, 6, 7]\n",
    "\n",
    "unique_list = []\n",
    "for item in my_list:\n",
    "    if item not in unique_list:\n",
    "        unique_list.append(item)\n",
    "\n",
    "print(unique_list)"
   ]
  },
  {
   "cell_type": "code",
   "execution_count": 1,
   "id": "eb545223-fc65-472e-a195-b6a9b8d91309",
   "metadata": {},
   "outputs": [
    {
     "name": "stdout",
     "output_type": "stream",
     "text": [
      "[3, 4, 5]\n"
     ]
    }
   ],
   "source": [
    "#Q.21. Find the common elements between two lists.\n",
    "list1 = [1, 2, 3, 4, 5]\n",
    "list2 = [3, 4, 5, 6, 7]\n",
    "\n",
    "common_elements = []\n",
    "\n",
    "for item in list1:\n",
    "    if item in list2:\n",
    "        common_elements.append(item)\n",
    "\n",
    "print(common_elements)"
   ]
  },
  {
   "cell_type": "code",
   "execution_count": 2,
   "id": "6597adac-f072-4a9a-ab1d-8bfe0127733f",
   "metadata": {},
   "outputs": [
    {
     "name": "stdout",
     "output_type": "stream",
     "text": [
      "Elements in list1 but not in list2: [1, 2]\n",
      "Elements in list2 but not in list1: [6, 7]\n"
     ]
    }
   ],
   "source": [
    "#Q.22. Find the difference between two lists.\n",
    "list1 = [1, 2, 3, 4, 5]\n",
    "list2 = [3, 4, 5, 6, 7]\n",
    "\n",
    "difference1 = list(set(list1) - set(list2))\n",
    "difference2 = list(set(list2) - set(list1))\n",
    "\n",
    "print(\"Elements in list1 but not in list2:\", difference1)\n",
    "print(\"Elements in list2 but not in list1:\", difference2)"
   ]
  },
  {
   "cell_type": "code",
   "execution_count": 3,
   "id": "315e01b6-9839-45ad-bfb1-ea9cf7e562b2",
   "metadata": {},
   "outputs": [
    {
     "name": "stdout",
     "output_type": "stream",
     "text": [
      "[1, 2, 3, 4, 5, 6]\n"
     ]
    }
   ],
   "source": [
    "#Q.23. Merge two lists.\n",
    "list1 = [1, 2, 3]\n",
    "list2 = [4, 5, 6]\n",
    "\n",
    "merged_list = list1 + list2\n",
    "\n",
    "print(merged_list)"
   ]
  },
  {
   "cell_type": "code",
   "execution_count": 4,
   "id": "eb2f76cb-98c2-4baf-a5da-04f6b0b2bf5e",
   "metadata": {},
   "outputs": [
    {
     "name": "stdout",
     "output_type": "stream",
     "text": [
      "[2, 4, 6, 8, 10]\n"
     ]
    }
   ],
   "source": [
    "#Q.24. Multiply all elements in a list by 2.\n",
    "my_list = [1, 2, 3, 4, 5]\n",
    "\n",
    "for i in range(len(my_list)):\n",
    "    my_list[i] *= 2\n",
    "\n",
    "print(my_list)"
   ]
  },
  {
   "cell_type": "code",
   "execution_count": 5,
   "id": "ee03ee0b-860e-4a96-828e-1db7a3297332",
   "metadata": {},
   "outputs": [
    {
     "name": "stdout",
     "output_type": "stream",
     "text": [
      "[1, 3, 5, 7, 9]\n"
     ]
    }
   ],
   "source": [
    "#Q.25. Filter out all even numbers from a list.\n",
    "my_list = [1, 2, 3, 4, 5, 6, 7, 8, 9, 10]\n",
    "\n",
    "filtered_list = [x for x in my_list if x % 2 != 0]\n",
    "\n",
    "print(filtered_list)"
   ]
  },
  {
   "cell_type": "code",
   "execution_count": 6,
   "id": "e90e166c-5162-41da-979d-5fa19316fa1e",
   "metadata": {},
   "outputs": [
    {
     "name": "stdout",
     "output_type": "stream",
     "text": [
      "[1, 2, 3, 4, 5]\n"
     ]
    }
   ],
   "source": [
    "#Q.26. Convert a list of strings to a list of integers.\n",
    "string_list = [\"1\", \"2\", \"3\", \"4\", \"5\"]\n",
    "\n",
    "int_list = []\n",
    "for s in string_list:\n",
    "    int_list.append(int(s))\n",
    "\n",
    "print(int_list)"
   ]
  },
  {
   "cell_type": "code",
   "execution_count": 7,
   "id": "85bce933-37a7-4d40-8904-a8c2ba164f15",
   "metadata": {},
   "outputs": [
    {
     "name": "stdout",
     "output_type": "stream",
     "text": [
      "['1', '2', '3', '4', '5']\n"
     ]
    }
   ],
   "source": [
    "#Q.27. Convert a list of integers to a list of strings.\n",
    "int_list = [1, 2, 3, 4, 5]\n",
    "\n",
    "string_list = []\n",
    "for num in int_list:\n",
    "    string_list.append(str(num))\n",
    "\n",
    "print(string_list)"
   ]
  },
  {
   "cell_type": "code",
   "execution_count": 8,
   "id": "bcc50be2-39dd-4493-bb3e-7c3eedfb46ae",
   "metadata": {},
   "outputs": [
    {
     "name": "stdout",
     "output_type": "stream",
     "text": [
      "[1, 2, 3, 4, 5, 6, 7, 8]\n"
     ]
    }
   ],
   "source": [
    "#Q.28. Flatten a nested list.\n",
    "def flatten_list(nested_list):\n",
    "    flattened = []\n",
    "    for item in nested_list:\n",
    "        if isinstance(item, list):\n",
    "            flattened.extend(flatten_list(item))\n",
    "        else:\n",
    "            flattened.append(item)\n",
    "    return flattened\n",
    "\n",
    "nested_list = [1, [2, [3, 4], 5], 6, [7, 8]]\n",
    "\n",
    "flattened_list = flatten_list(nested_list)\n",
    "\n",
    "print(flattened_list)"
   ]
  },
  {
   "cell_type": "code",
   "execution_count": 9,
   "id": "e4d579ee-a810-4da6-86c4-3d92eef3dd66",
   "metadata": {},
   "outputs": [
    {
     "name": "stdout",
     "output_type": "stream",
     "text": [
      "[0, 1, 1, 2, 3, 5, 8, 13, 21, 34]\n"
     ]
    }
   ],
   "source": [
    "#Q.29. Create a list of the first 10 Fibonacci numbers.\n",
    "def generate_fibonacci(n):\n",
    "    fibonacci_list = []\n",
    "    a, b = 0, 1\n",
    "    for _ in range(n):\n",
    "        fibonacci_list.append(a)\n",
    "        a, b = b, a + b\n",
    "    return fibonacci_list\n",
    "\n",
    "n = 10  # Number of Fibonacci numbers to generate\n",
    "fibonacci_numbers = generate_fibonacci(n)\n",
    "\n",
    "print(fibonacci_numbers)"
   ]
  },
  {
   "cell_type": "code",
   "execution_count": 10,
   "id": "96581197-4175-4863-8052-4380814c4edd",
   "metadata": {},
   "outputs": [
    {
     "name": "stdout",
     "output_type": "stream",
     "text": [
      "The list is sorted.\n"
     ]
    }
   ],
   "source": [
    "#Q.30. Check if a list is sorted.\n",
    "def is_sorted(lst):\n",
    "    for i in range(1, len(lst)):\n",
    "        if lst[i] < lst[i - 1]:\n",
    "            return False\n",
    "    return True\n",
    "\n",
    "my_list = [1, 2, 3, 4, 5]\n",
    "\n",
    "if is_sorted(my_list):\n",
    "    print(\"The list is sorted.\")\n",
    "else:\n",
    "    print(\"The list is not sorted.\")"
   ]
  },
  {
   "cell_type": "code",
   "execution_count": 11,
   "id": "5cd34a25-de93-4f16-9c8e-a25ff5f1c8a2",
   "metadata": {},
   "outputs": [
    {
     "name": "stdout",
     "output_type": "stream",
     "text": [
      "[3, 4, 5, 1, 2]\n"
     ]
    }
   ],
   "source": [
    "#Q.31. Rotate a list to the left by `n` positions.\n",
    "def rotate_left(lst, n):\n",
    "    n = n % len(lst)  # Ensure n is within the length of the list\n",
    "    return lst[n:] + lst[:n]\n",
    "\n",
    "my_list = [1, 2, 3, 4, 5]\n",
    "n = 2  # Number of positions to rotate left\n",
    "\n",
    "rotated_list = rotate_left(my_list, n)\n",
    "\n",
    "print(rotated_list)"
   ]
  },
  {
   "cell_type": "code",
   "execution_count": 12,
   "id": "42ca0719-99c7-4165-b7a4-9e10dfa0d21f",
   "metadata": {},
   "outputs": [
    {
     "name": "stdout",
     "output_type": "stream",
     "text": [
      "[4, 5, 1, 2, 3]\n"
     ]
    }
   ],
   "source": [
    "#Q.32. Rotate a list to the right by `n` positions.\n",
    "def rotate_right(lst, n):\n",
    "    n = n % len(lst)  # Ensure n is within the length of the list\n",
    "    return lst[-n:] + lst[:-n]\n",
    "\n",
    "my_list = [1, 2, 3, 4, 5]\n",
    "n = 2  # Number of positions to rotate right\n",
    "\n",
    "rotated_list = rotate_right(my_list, n)\n",
    "\n",
    "print(rotated_list)"
   ]
  },
  {
   "cell_type": "code",
   "execution_count": 13,
   "id": "83d3483d-14e0-4207-9587-39163d5b67e6",
   "metadata": {},
   "outputs": [
    {
     "name": "stdout",
     "output_type": "stream",
     "text": [
      "[2, 3, 5, 7, 11, 13, 17, 19, 23, 29, 31, 37, 41, 43, 47]\n"
     ]
    }
   ],
   "source": [
    "#Q.33. Create a list of prime numbers up to 50.\n",
    "def is_prime(num):\n",
    "    if num <= 1:\n",
    "        return False\n",
    "    if num <= 3:\n",
    "        return True\n",
    "    if num % 2 == 0 or num % 3 == 0:\n",
    "        return False\n",
    "    i = 5\n",
    "    while i * i <= num:\n",
    "        if num % i == 0 or num % (i + 2) == 0:\n",
    "            return False\n",
    "        i += 6\n",
    "    return True\n",
    "\n",
    "primes = [num for num in range(2, 51) if is_prime(num)]\n",
    "\n",
    "print(primes)"
   ]
  },
  {
   "cell_type": "code",
   "execution_count": 14,
   "id": "c3729622-bfba-40db-aa75-57a538ceca6a",
   "metadata": {},
   "outputs": [
    {
     "name": "stdout",
     "output_type": "stream",
     "text": [
      "[[1, 2, 3], [4, 5, 6], [7, 8, 9], [10]]\n"
     ]
    }
   ],
   "source": [
    "#Q.34. Split a list into chunks of size `n`.\n",
    "def split_list(lst, chunk_size):\n",
    "    for i in range(0, len(lst), chunk_size):\n",
    "        yield lst[i:i + chunk_size]\n",
    "\n",
    "my_list = [1, 2, 3, 4, 5, 6, 7, 8, 9, 10]\n",
    "chunk_size = 3\n",
    "\n",
    "chunked_list = list(split_list(my_list, chunk_size))\n",
    "\n",
    "print(chunked_list)"
   ]
  },
  {
   "cell_type": "code",
   "execution_count": 15,
   "id": "6948ae60-7dc1-460a-92c1-bde8bb18d37c",
   "metadata": {},
   "outputs": [
    {
     "name": "stdout",
     "output_type": "stream",
     "text": [
      "The second largest number is: 15\n"
     ]
    }
   ],
   "source": [
    "#Q.35. Find the second largest number in a list.\n",
    "def second_largest(lst):\n",
    "    if len(lst) < 2:\n",
    "        return \"List must have at least two elements\"\n",
    "    \n",
    "    largest = second = float('-inf')  # Initialize to negative infinity\n",
    "    \n",
    "    for num in lst:\n",
    "        if num > largest:\n",
    "            second = largest\n",
    "            largest = num\n",
    "        elif num > second and num != largest:\n",
    "            second = num\n",
    "    \n",
    "    if second == float('-inf'):\n",
    "        return \"There is no second largest element\"\n",
    "    return second\n",
    "\n",
    "my_list = [10, 5, 20, 8, 15]\n",
    "\n",
    "result = second_largest(my_list)\n",
    "\n",
    "print(\"The second largest number is:\", result)"
   ]
  },
  {
   "cell_type": "code",
   "execution_count": 16,
   "id": "50956241-a3af-4eb5-b709-e2363677beb6",
   "metadata": {},
   "outputs": [
    {
     "name": "stdout",
     "output_type": "stream",
     "text": [
      "[1, 4, 9, 16, 25]\n"
     ]
    }
   ],
   "source": [
    "#Q.36. Replace every element in a list with its square.\n",
    "my_list = [1, 2, 3, 4, 5]\n",
    "\n",
    "for i in range(len(my_list)):\n",
    "    my_list[i] = my_list[i] ** 2\n",
    "\n",
    "print(my_list)"
   ]
  },
  {
   "cell_type": "code",
   "execution_count": 17,
   "id": "a90b043d-d9cc-4c55-8d1c-7ed026e12545",
   "metadata": {},
   "outputs": [
    {
     "name": "stdout",
     "output_type": "stream",
     "text": [
      "{'apple': 0, 'banana': 1, 'cherry': 2, 'date': 3}\n"
     ]
    }
   ],
   "source": [
    "#Q.37. Convert a list to a dictionary where list elements become keys and their indices become values.\n",
    "my_list = ['apple', 'banana', 'cherry', 'date']\n",
    "\n",
    "my_dict = {value: index for index, value in enumerate(my_list)}\n",
    "\n",
    "print(my_dict)"
   ]
  },
  {
   "cell_type": "code",
   "execution_count": 18,
   "id": "1bdf1e6c-4bc9-47dd-ad84-ba49c7c65cd0",
   "metadata": {},
   "outputs": [
    {
     "name": "stdout",
     "output_type": "stream",
     "text": [
      "[1, 5, 4, 2, 3]\n"
     ]
    }
   ],
   "source": [
    "#Q.38. Shuffle the elements of a list randomly.\n",
    "import random\n",
    "\n",
    "my_list = [1, 2, 3, 4, 5]\n",
    "\n",
    "random.shuffle(my_list)\n",
    "\n",
    "print(my_list)"
   ]
  },
  {
   "cell_type": "code",
   "execution_count": 19,
   "id": "d9515f71-e893-4ef3-bde2-b6749a06c297",
   "metadata": {},
   "outputs": [
    {
     "name": "stdout",
     "output_type": "stream",
     "text": [
      "[1, 2, 6, 24, 120, 720, 5040, 40320, 362880, 3628800]\n"
     ]
    }
   ],
   "source": [
    "#Q.39. Create a list of the first 10 factorial numbers.\n",
    "def factorial(n):\n",
    "    result = 1\n",
    "    for i in range(1, n + 1):\n",
    "        result *= i\n",
    "    return result\n",
    "\n",
    "factorial_numbers = [factorial(n) for n in range(1, 11)]\n",
    "\n",
    "print(factorial_numbers)"
   ]
  },
  {
   "cell_type": "code",
   "execution_count": 20,
   "id": "05e84b68-7ae6-46cb-81e5-c549529052b2",
   "metadata": {},
   "outputs": [
    {
     "name": "stdout",
     "output_type": "stream",
     "text": [
      "The lists have at least one common element.\n"
     ]
    }
   ],
   "source": [
    "#Q.40. Check if two lists have at least one element in common.\n",
    "def have_common_element(list1, list2):\n",
    "    for item in list1:\n",
    "        if item in list2:\n",
    "            return True\n",
    "    return False\n",
    "\n",
    "list1 = [1, 2, 3, 4, 5]\n",
    "list2 = [5, 6, 7, 8, 9]\n",
    "\n",
    "if have_common_element(list1, list2):\n",
    "    print(\"The lists have at least one common element.\")\n",
    "else:\n",
    "    print(\"The lists do not have any common elements.\")"
   ]
  },
  {
   "cell_type": "code",
   "execution_count": 22,
   "id": "1a56c7f8-ad79-4509-a7b6-01f6bcdbe699",
   "metadata": {},
   "outputs": [
    {
     "name": "stdout",
     "output_type": "stream",
     "text": [
      "[]\n"
     ]
    }
   ],
   "source": [
    "#Q.41. Remove all elements from a list.\n",
    "my_list = [1, 2, 3, 4, 5]\n",
    "\n",
    "my_list.clear()\n",
    "\n",
    "print(my_list)"
   ]
  },
  {
   "cell_type": "code",
   "execution_count": 23,
   "id": "70f8da2b-de4c-4e59-8b5b-a9168c38def0",
   "metadata": {},
   "outputs": [
    {
     "name": "stdout",
     "output_type": "stream",
     "text": [
      "[1, 0, 3, 0, 5]\n"
     ]
    }
   ],
   "source": [
    "#Q.42. Replace negative numbers in a list with 0.\n",
    "my_list = [1, -2, 3, -4, 5]\n",
    "\n",
    "for i in range(len(my_list)):\n",
    "    if my_list[i] < 0:\n",
    "        my_list[i] = 0\n",
    "\n",
    "print(my_list)"
   ]
  },
  {
   "cell_type": "code",
   "execution_count": 24,
   "id": "bc211027-1a15-43a6-83d0-4a21d3d7e431",
   "metadata": {},
   "outputs": [
    {
     "name": "stdout",
     "output_type": "stream",
     "text": [
      "['This', 'is', 'a', 'sample', 'sentence.']\n"
     ]
    }
   ],
   "source": [
    "#Q.43. Convert a string into a list of words.\n",
    "text = \"This is a sample sentence.\"\n",
    "\n",
    "word_list = text.split()\n",
    "\n",
    "print(word_list)"
   ]
  },
  {
   "cell_type": "code",
   "execution_count": 25,
   "id": "08440da5-d1b8-4063-ac9d-880509ff75a3",
   "metadata": {},
   "outputs": [
    {
     "name": "stdout",
     "output_type": "stream",
     "text": [
      "This is a list of words\n"
     ]
    }
   ],
   "source": [
    "#Q.44. Convert a list of words into a string.\n",
    "word_list = [\"This\", \"is\", \"a\", \"list\", \"of\", \"words\"]\n",
    "\n",
    "# Use the join() method to concatenate the words into a string\n",
    "text = \" \".join(word_list)\n",
    "\n",
    "print(text)"
   ]
  },
  {
   "cell_type": "code",
   "execution_count": 26,
   "id": "a77b6733-2184-45cf-90d3-7e424da1e990",
   "metadata": {},
   "outputs": [
    {
     "name": "stdout",
     "output_type": "stream",
     "text": [
      "[1, 2, 4, 8, 16]\n"
     ]
    }
   ],
   "source": [
    "#Q.45. Create a list of the first `n` powers of 2.\n",
    "n = 5  # Replace with the desired number of powers\n",
    "powers_of_2 = [2 ** i for i in range(n)]\n",
    "\n",
    "print(powers_of_2)"
   ]
  },
  {
   "cell_type": "code",
   "execution_count": 27,
   "id": "003acdce-bee8-4be7-abe9-b4f80751b2b3",
   "metadata": {},
   "outputs": [
    {
     "name": "stdout",
     "output_type": "stream",
     "text": [
      "The longest string is: elderberry\n"
     ]
    }
   ],
   "source": [
    "#Q.46. Find the longest string in a list of strings.\n",
    "string_list = [\"apple\", \"banana\", \"cherry\", \"date\", \"elderberry\"]\n",
    "\n",
    "longest_string = max(string_list, key=len)\n",
    "\n",
    "print(\"The longest string is:\", longest_string)"
   ]
  },
  {
   "cell_type": "code",
   "execution_count": 28,
   "id": "a90c7611-1fdc-4a2c-aab5-c6b1683802c3",
   "metadata": {},
   "outputs": [
    {
     "name": "stdout",
     "output_type": "stream",
     "text": [
      "The shortest string is: date\n"
     ]
    }
   ],
   "source": [
    "#Q.47. Find the shortest string in a list of strings.\n",
    "string_list = [\"apple\", \"banana\", \"cherry\", \"date\", \"elderberry\"]\n",
    "\n",
    "shortest_string = min(string_list, key=len)\n",
    "\n",
    "print(\"The shortest string is:\", shortest_string)"
   ]
  },
  {
   "cell_type": "code",
   "execution_count": 29,
   "id": "ffabfb93-1746-49da-9250-0b3e643a6cac",
   "metadata": {},
   "outputs": [
    {
     "name": "stdout",
     "output_type": "stream",
     "text": [
      "[1, 3, 6, 10, 15]\n"
     ]
    }
   ],
   "source": [
    "#Q.48. Create a list of the first `n` triangular numbers.\n",
    "n = 5  # Replace with the desired number of triangular numbers\n",
    "triangular_numbers = []\n",
    "\n",
    "for i in range(1, n + 1):\n",
    "    triangular_number = i * (i + 1) // 2\n",
    "    triangular_numbers.append(triangular_number)\n",
    "\n",
    "print(triangular_numbers)"
   ]
  },
  {
   "cell_type": "code",
   "execution_count": 31,
   "id": "1df74219-00d5-4b7a-b172-3e5e8cbb4b10",
   "metadata": {},
   "outputs": [
    {
     "name": "stdout",
     "output_type": "stream",
     "text": [
      "The subsequence is present in the larger list.\n"
     ]
    }
   ],
   "source": [
    "#Q.49. Check if a list contains another list as a subsequence.\n",
    "def is_subsequence(subsequence, larger_list):\n",
    "    sub_len = len(subsequence)\n",
    "    i = 0  # Index for the larger list\n",
    "\n",
    "    for item in larger_list:\n",
    "        if item == subsequence[i]:\n",
    "            i += 1\n",
    "            if i == sub_len:\n",
    "                return True\n",
    "\n",
    "    return False\n",
    "\n",
    "# Example usage:\n",
    "larger_list = [1, 2, 3, 4, 5, 6]\n",
    "subsequence = [2, 4, 6]\n",
    "\n",
    "if is_subsequence(subsequence, larger_list):\n",
    "    print(\"The subsequence is present in the larger list.\")\n",
    "else:\n",
    "    print(\"The subsequence is not present in the larger list.\")"
   ]
  },
  {
   "cell_type": "code",
   "execution_count": 32,
   "id": "2a2c043f-ec3a-4d1d-9e2a-4b525bf423d0",
   "metadata": {},
   "outputs": [
    {
     "name": "stdout",
     "output_type": "stream",
     "text": [
      "Original List: [1, 2, 3, 4, 5]\n",
      "List after swapping elements at indices 1 and 3 : [1, 4, 3, 2, 5]\n"
     ]
    }
   ],
   "source": [
    "#Q.50. Swap two elements in a list by their indices.\n",
    "def swap_elements_by_indices(my_list, index1, index2):\n",
    "    if 0 <= index1 < len(my_list) and 0 <= index2 < len(my_list):\n",
    "        my_list[index1], my_list[index2] = my_list[index2], my_list[index1]\n",
    "\n",
    "# Example usage:\n",
    "my_list = [1, 2, 3, 4, 5]\n",
    "index1 = 1\n",
    "index2 = 3\n",
    "\n",
    "print(\"Original List:\", my_list)\n",
    "swap_elements_by_indices(my_list, index1, index2)\n",
    "print(\"List after swapping elements at indices\", index1, \"and\", index2, \":\", my_list)"
   ]
  },
  {
   "cell_type": "code",
   "execution_count": 33,
   "id": "5a722736-9556-453f-8419-f29266685d71",
   "metadata": {},
   "outputs": [],
   "source": [
    "# TUPLE BASED\n",
    "#Q.1. Create a tuple with integers from 1 to 5.\n",
    "my_tuple = (1, 2, 3, 4, 5)"
   ]
  },
  {
   "cell_type": "code",
   "execution_count": 34,
   "id": "6499425b-e828-43a7-a8f9-a548ae1aed38",
   "metadata": {},
   "outputs": [
    {
     "data": {
      "text/plain": [
       "(1, 2, 3, 4, 5)"
      ]
     },
     "execution_count": 34,
     "metadata": {},
     "output_type": "execute_result"
    }
   ],
   "source": [
    "my_tuple"
   ]
  },
  {
   "cell_type": "code",
   "execution_count": 35,
   "id": "61260fd1-85fa-4d52-a928-d593c216cc0e",
   "metadata": {},
   "outputs": [
    {
     "name": "stdout",
     "output_type": "stream",
     "text": [
      "The third element of the tuple is: 3\n"
     ]
    }
   ],
   "source": [
    "#Q.2. Access the third element of a tuple.\n",
    "my_tuple = (1, 2, 3, 4, 5)\n",
    "\n",
    "third_element = my_tuple[2]\n",
    "\n",
    "print(\"The third element of the tuple is:\", third_element)"
   ]
  },
  {
   "cell_type": "code",
   "execution_count": 36,
   "id": "8ac508f1-7e56-4348-b58b-50c6e80aadb4",
   "metadata": {},
   "outputs": [
    {
     "name": "stdout",
     "output_type": "stream",
     "text": [
      "The length of the tuple is: 5\n"
     ]
    }
   ],
   "source": [
    "#Q.3. Find the length of a tuple without using the `len()` function.\n",
    "my_tuple = (1, 2, 3, 4, 5)\n",
    "length = 0\n",
    "\n",
    "for _ in my_tuple:\n",
    "    length += 1\n",
    "\n",
    "print(\"The length of the tuple is:\", length)"
   ]
  },
  {
   "cell_type": "code",
   "execution_count": 37,
   "id": "1f5e6c37-0cca-4e3e-a946-5af822bb2376",
   "metadata": {},
   "outputs": [
    {
     "name": "stdout",
     "output_type": "stream",
     "text": [
      "The element 2 appears 3 times in the tuple.\n"
     ]
    }
   ],
   "source": [
    "#Q.4. Count the occurrences of an element in a tuple.\n",
    "my_tuple = (1, 2, 2, 3, 4, 2, 5)\n",
    "\n",
    "# Count the occurrences of the element 2\n",
    "count = my_tuple.count(2)\n",
    "\n",
    "print(\"The element 2 appears\", count, \"times in the tuple.\")"
   ]
  },
  {
   "cell_type": "code",
   "execution_count": 38,
   "id": "bfa273f6-13cf-4a27-a395-478306765184",
   "metadata": {},
   "outputs": [
    {
     "name": "stdout",
     "output_type": "stream",
     "text": [
      "The index of the first occurrence of 2 is: 1\n"
     ]
    }
   ],
   "source": [
    "#Q.5. Find the index of the first occurrence of an element in a tuple.\n",
    "my_tuple = (1, 2, 3, 4, 5, 2)\n",
    "\n",
    "# Find the index of the first occurrence of the element 2\n",
    "index = my_tuple.index(2)\n",
    "\n",
    "print(\"The index of the first occurrence of 2 is:\", index)"
   ]
  },
  {
   "cell_type": "code",
   "execution_count": 39,
   "id": "0e509fdf-cb5b-4084-bb5d-c80b8ee9aba2",
   "metadata": {},
   "outputs": [
    {
     "name": "stdout",
     "output_type": "stream",
     "text": [
      "The element 3 exists in the tuple.\n"
     ]
    }
   ],
   "source": [
    "#Q.6. Check if an element exists in a tuple.\n",
    "my_tuple = (1, 2, 3, 4, 5)\n",
    "\n",
    "element_to_check = 3\n",
    "\n",
    "if element_to_check in my_tuple:\n",
    "    print(f\"The element {element_to_check} exists in the tuple.\")\n",
    "else:\n",
    "    print(f\"The element {element_to_check} does not exist in the tuple.\")"
   ]
  },
  {
   "cell_type": "code",
   "execution_count": 40,
   "id": "784e038a-4795-488f-bf9c-124e17c888d5",
   "metadata": {},
   "outputs": [
    {
     "name": "stdout",
     "output_type": "stream",
     "text": [
      "Tuple: (1, 2, 3, 4, 5)\n",
      "List: [1, 2, 3, 4, 5]\n"
     ]
    }
   ],
   "source": [
    "#Q.7. Convert a tuple to a list.\n",
    "my_tuple = (1, 2, 3, 4, 5)\n",
    "\n",
    "# Convert the tuple to a list\n",
    "my_list = list(my_tuple)\n",
    "\n",
    "print(\"Tuple:\", my_tuple)\n",
    "print(\"List:\", my_list)"
   ]
  },
  {
   "cell_type": "code",
   "execution_count": 41,
   "id": "868dcdce-9f95-40ed-9d7b-47d2969bf79f",
   "metadata": {},
   "outputs": [
    {
     "name": "stdout",
     "output_type": "stream",
     "text": [
      "List: [1, 2, 3, 4, 5]\n",
      "Tuple: (1, 2, 3, 4, 5)\n"
     ]
    }
   ],
   "source": [
    "#Q.8. Convert a list to a tuple.\n",
    "my_list = [1, 2, 3, 4, 5]\n",
    "\n",
    "# Convert the list to a tuple\n",
    "my_tuple = tuple(my_list)\n",
    "\n",
    "print(\"List:\", my_list)\n",
    "print(\"Tuple:\", my_tuple)"
   ]
  },
  {
   "cell_type": "code",
   "execution_count": 42,
   "id": "e4ebb0c2-fe23-4412-9e74-643d3f57a2bc",
   "metadata": {},
   "outputs": [
    {
     "name": "stdout",
     "output_type": "stream",
     "text": [
      "a: 1\n",
      "b: 2\n",
      "c: 3\n"
     ]
    }
   ],
   "source": [
    "#Q.9. Unpack the elements of a tuple into variables.\n",
    "my_tuple = (1, 2, 3)\n",
    "\n",
    "# Unpack the elements into variables\n",
    "a, b, c = my_tuple\n",
    "\n",
    "print(\"a:\", a)\n",
    "print(\"b:\", b)\n",
    "print(\"c:\", c)"
   ]
  },
  {
   "cell_type": "code",
   "execution_count": 43,
   "id": "b24b0ef5-50c9-4354-bf93-3de891a2334e",
   "metadata": {},
   "outputs": [
    {
     "name": "stdout",
     "output_type": "stream",
     "text": [
      "(2, 4, 6, 8, 10)\n"
     ]
    }
   ],
   "source": [
    "#Q.10. Create a tuple of even numbers from 1 to 10.\n",
    "even_numbers_tuple = tuple(x for x in range(2, 11, 2))\n",
    "\n",
    "print(even_numbers_tuple)"
   ]
  },
  {
   "cell_type": "code",
   "execution_count": 44,
   "id": "40eb77c2-3efa-4add-abc5-71a805ec0d54",
   "metadata": {},
   "outputs": [
    {
     "name": "stdout",
     "output_type": "stream",
     "text": [
      "(1, 3, 5, 7, 9)\n"
     ]
    }
   ],
   "source": [
    "#Q.11. Create a tuple of odd numbers from 1 to 10.\n",
    "odd_numbers_tuple = tuple(x for x in range(1, 11) if x % 2 != 0)\n",
    "\n",
    "print(odd_numbers_tuple)"
   ]
  },
  {
   "cell_type": "code",
   "execution_count": 45,
   "id": "9ee192dd-0292-4860-aadc-bd3ab631572c",
   "metadata": {},
   "outputs": [
    {
     "name": "stdout",
     "output_type": "stream",
     "text": [
      "Tuple 1: (1, 2, 3)\n",
      "Tuple 2: (4, 5, 6)\n",
      "Concatenated Tuple: (1, 2, 3, 4, 5, 6)\n"
     ]
    }
   ],
   "source": [
    "#Q.12. Concatenate two tuples.\n",
    "tuple1 = (1, 2, 3)\n",
    "tuple2 = (4, 5, 6)\n",
    "\n",
    "# Concatenate the two tuples\n",
    "concatenated_tuple = tuple1 + tuple2\n",
    "\n",
    "print(\"Tuple 1:\", tuple1)\n",
    "print(\"Tuple 2:\", tuple2)\n",
    "print(\"Concatenated Tuple:\", concatenated_tuple)"
   ]
  },
  {
   "cell_type": "code",
   "execution_count": 46,
   "id": "8bbdd184-b6ea-4bd5-8ca0-770afa2e590f",
   "metadata": {},
   "outputs": [
    {
     "name": "stdout",
     "output_type": "stream",
     "text": [
      "Original Tuple: (1, 2, 3)\n",
      "Repeated Tuple: (1, 2, 3, 1, 2, 3, 1, 2, 3)\n"
     ]
    }
   ],
   "source": [
    "#Q.13. Repeat a tuple three times.\n",
    "my_tuple = (1, 2, 3)\n",
    "\n",
    "# Repeat the tuple three times\n",
    "repeated_tuple = my_tuple * 3\n",
    "\n",
    "print(\"Original Tuple:\", my_tuple)\n",
    "print(\"Repeated Tuple:\", repeated_tuple)"
   ]
  },
  {
   "cell_type": "code",
   "execution_count": 47,
   "id": "dcb9ff07-4deb-4522-8ef6-c368abe0b4ca",
   "metadata": {},
   "outputs": [
    {
     "name": "stdout",
     "output_type": "stream",
     "text": [
      "The tuple is empty.\n"
     ]
    }
   ],
   "source": [
    "#Q.14. Check if a tuple is empty.\n",
    "my_tuple = ()  # An empty tuple\n",
    "\n",
    "if not my_tuple:\n",
    "    print(\"The tuple is empty.\")\n",
    "else:\n",
    "    print(\"The tuple is not empty.\")"
   ]
  },
  {
   "cell_type": "code",
   "execution_count": 48,
   "id": "ee7f6db5-e95d-47e4-882c-4f78e5afa891",
   "metadata": {},
   "outputs": [
    {
     "name": "stdout",
     "output_type": "stream",
     "text": [
      "((1, 2, 3), (4, 5, 6), (7, 8, 9))\n"
     ]
    }
   ],
   "source": [
    "#Q.15. Create a nested tuple.\n",
    "nested_tuple = ((1, 2, 3), (4, 5, 6), (7, 8, 9))\n",
    "\n",
    "print(nested_tuple)"
   ]
  },
  {
   "cell_type": "code",
   "execution_count": 49,
   "id": "59d98ebd-aa7c-41e0-8b9b-f54d984f73a7",
   "metadata": {},
   "outputs": [
    {
     "name": "stdout",
     "output_type": "stream",
     "text": [
      "The first element of the nested tuple is: 1\n"
     ]
    }
   ],
   "source": [
    "#Q.16. Access the first element of a nested tuple.\n",
    "nested_tuple = ((1, 2, 3), (4, 5, 6), (7, 8, 9))\n",
    "\n",
    "# Access the first element of the nested tuple\n",
    "first_element = nested_tuple[0][0]\n",
    "\n",
    "print(\"The first element of the nested tuple is:\", first_element)"
   ]
  },
  {
   "cell_type": "code",
   "execution_count": 50,
   "id": "23dde13d-bc49-4f60-93b1-61516e45eef3",
   "metadata": {},
   "outputs": [
    {
     "name": "stdout",
     "output_type": "stream",
     "text": [
      "(42,)\n"
     ]
    }
   ],
   "source": [
    "#Q.17. Create a tuple with a single element.\n",
    "single_element_tuple = (42,)  # Note the comma after the element\n",
    "\n",
    "print(single_element_tuple)"
   ]
  },
  {
   "cell_type": "code",
   "execution_count": 51,
   "id": "4cf9f03f-db41-4c7a-8440-c0bd1143ef08",
   "metadata": {},
   "outputs": [
    {
     "name": "stdout",
     "output_type": "stream",
     "text": [
      "tuple1 is equal to tuple2\n",
      "tuple1 is not equal to tuple3\n",
      "tuple1 is less than tuple3 at index 0\n",
      "tuple1 is less than tuple3 at index 1\n",
      "tuple1 is less than tuple3 at index 2\n"
     ]
    }
   ],
   "source": [
    "#Q.18. Compare two tuples.\n",
    "tuple1 = (1, 2, 3)\n",
    "tuple2 = (1, 2, 3)\n",
    "tuple3 = (4, 5, 6)\n",
    "\n",
    "# Compare tuple1 and tuple2\n",
    "if tuple1 == tuple2:\n",
    "    print(\"tuple1 is equal to tuple2\")\n",
    "else:\n",
    "    print(\"tuple1 is not equal to tuple2\")\n",
    "\n",
    "# Compare tuple1 and tuple3\n",
    "if tuple1 != tuple3:\n",
    "    print(\"tuple1 is not equal to tuple3\")\n",
    "else:\n",
    "    print(\"tuple1 is equal to tuple3\")\n",
    "\n",
    "# Compare tuple1 and tuple3 element-wise\n",
    "for i in range(len(tuple1)):\n",
    "    if tuple1[i] < tuple3[i]:\n",
    "        print(f\"tuple1 is less than tuple3 at index {i}\")\n",
    "    elif tuple1[i] > tuple3[i]:\n",
    "        print(f\"tuple1 is greater than tuple3 at index {i}\")\n",
    "    else:\n",
    "        print(f\"tuple1 and tuple3 are equal at index {i}\")"
   ]
  },
  {
   "cell_type": "code",
   "execution_count": 54,
   "id": "f19de5ec-2214-4f5a-a603-44db8fc4cf7e",
   "metadata": {},
   "outputs": [],
   "source": [
    "#Q.19. Delete a tuple.\n",
    "my_tuple = (1, 2, 3)\n",
    "\n",
    "# Delete the tuple\n",
    "del my_tuple"
   ]
  },
  {
   "cell_type": "code",
   "execution_count": 55,
   "id": "def8e76c-0375-4cf0-9d06-bae4fed2b221",
   "metadata": {},
   "outputs": [
    {
     "name": "stdout",
     "output_type": "stream",
     "text": [
      "Original Tuple: (1, 2, 3, 4, 5)\n",
      "Sliced Subset: (2, 3, 4)\n"
     ]
    }
   ],
   "source": [
    "#Q.20. Slice a tuple.\n",
    "my_tuple = (1, 2, 3, 4, 5)\n",
    "\n",
    "# Slice the tuple to get a subset\n",
    "subset = my_tuple[1:4]\n",
    "\n",
    "print(\"Original Tuple:\", my_tuple)\n",
    "print(\"Sliced Subset:\", subset)"
   ]
  },
  {
   "cell_type": "code",
   "execution_count": 56,
   "id": "ed23f414-8a9f-4048-9249-04f1c2fc6eef",
   "metadata": {},
   "outputs": [
    {
     "name": "stdout",
     "output_type": "stream",
     "text": [
      "Tuple: (10, 25, 5, 30, 15)\n",
      "Maximum Value: 30\n"
     ]
    }
   ],
   "source": [
    "#Q.21. Find the maximum value in a tuple.\n",
    "my_tuple = (10, 25, 5, 30, 15)\n",
    "\n",
    "# Find the maximum value in the tuple\n",
    "maximum_value = max(my_tuple)\n",
    "\n",
    "print(\"Tuple:\", my_tuple)\n",
    "print(\"Maximum Value:\", maximum_value)"
   ]
  },
  {
   "cell_type": "code",
   "execution_count": 57,
   "id": "312bccfe-5966-43d1-8b9f-14841f7ce35a",
   "metadata": {},
   "outputs": [
    {
     "name": "stdout",
     "output_type": "stream",
     "text": [
      "Tuple: (10, 25, 5, 30, 15)\n",
      "Minimum Value: 5\n"
     ]
    }
   ],
   "source": [
    "#Q.22. Find the minimum value in a tuple.\n",
    "my_tuple = (10, 25, 5, 30, 15)\n",
    "\n",
    "# Find the minimum value in the tuple\n",
    "minimum_value = min(my_tuple)\n",
    "\n",
    "print(\"Tuple:\", my_tuple)\n",
    "print(\"Minimum Value:\", minimum_value)"
   ]
  },
  {
   "cell_type": "code",
   "execution_count": 58,
   "id": "c6ca6db9-c508-46fe-9f55-8402faa3b3ed",
   "metadata": {},
   "outputs": [
    {
     "name": "stdout",
     "output_type": "stream",
     "text": [
      "String: Hello, World!\n",
      "Tuple of Characters: ('H', 'e', 'l', 'l', 'o', ',', ' ', 'W', 'o', 'r', 'l', 'd', '!')\n"
     ]
    }
   ],
   "source": [
    "#Q.23. Convert a string to a tuple of characters.\n",
    "my_string = \"Hello, World!\"\n",
    "\n",
    "# Convert the string to a tuple of characters using a loop\n",
    "char_tuple = tuple(char for char in my_string)\n",
    "\n",
    "print(\"String:\", my_string)\n",
    "print(\"Tuple of Characters:\", char_tuple)"
   ]
  },
  {
   "cell_type": "code",
   "execution_count": 59,
   "id": "20de4ac9-0e91-4672-8b7c-1749987bd662",
   "metadata": {},
   "outputs": [
    {
     "name": "stdout",
     "output_type": "stream",
     "text": [
      "Tuple of Characters: ('H', 'e', 'l', 'l', 'o', ',', ' ', 'W', 'o', 'r', 'l', 'd', '!')\n",
      "Resulting String: Hello, World!\n"
     ]
    }
   ],
   "source": [
    "#Q.24. Convert a tuple of characters to a string.\n",
    "char_tuple = ('H', 'e', 'l', 'l', 'o', ',', ' ', 'W', 'o', 'r', 'l', 'd', '!')\n",
    "\n",
    "# Convert the tuple of characters to a string using join()\n",
    "resulting_string = ''.join(char_tuple)\n",
    "\n",
    "print(\"Tuple of Characters:\", char_tuple)\n",
    "print(\"Resulting String:\", resulting_string)"
   ]
  },
  {
   "cell_type": "code",
   "execution_count": 60,
   "id": "b7ee6b78-599f-4ae2-b804-b380d7b78161",
   "metadata": {},
   "outputs": [
    {
     "name": "stdout",
     "output_type": "stream",
     "text": [
      "(1, 'hello', 3.14, True)\n"
     ]
    }
   ],
   "source": [
    "#Q.25. Create a tuple from multiple data types.\n",
    "mixed_tuple = (1, \"hello\", 3.14, True)\n",
    "\n",
    "print(mixed_tuple)"
   ]
  },
  {
   "cell_type": "code",
   "execution_count": 61,
   "id": "761cadef-eb74-4ba0-a258-950341a5975d",
   "metadata": {},
   "outputs": [
    {
     "name": "stdout",
     "output_type": "stream",
     "text": [
      "tuple1 and tuple2 are identical.\n",
      "tuple1 and tuple3 are not identical.\n"
     ]
    }
   ],
   "source": [
    "#Q.26. Check if two tuples are identical.\n",
    "tuple1 = (1, 2, 3)\n",
    "tuple2 = (1, 2, 3)\n",
    "tuple3 = (3, 2, 1)\n",
    "\n",
    "# Check if tuple1 is identical to tuple2\n",
    "if tuple1 == tuple2:\n",
    "    print(\"tuple1 and tuple2 are identical.\")\n",
    "else:\n",
    "    print(\"tuple1 and tuple2 are not identical.\")\n",
    "\n",
    "# Check if tuple1 is identical to tuple3\n",
    "if tuple1 == tuple3:\n",
    "    print(\"tuple1 and tuple3 are identical.\")\n",
    "else:\n",
    "    print(\"tuple1 and tuple3 are not identical.\")"
   ]
  },
  {
   "cell_type": "code",
   "execution_count": 62,
   "id": "ea0aff52-39b4-49ec-89c9-6a335d4cbec9",
   "metadata": {},
   "outputs": [
    {
     "name": "stdout",
     "output_type": "stream",
     "text": [
      "Original Tuple: (3, 1, 4, 1, 5, 9, 2, 6, 5, 3, 5)\n",
      "Sorted Tuple: (1, 1, 2, 3, 3, 4, 5, 5, 5, 6, 9)\n"
     ]
    }
   ],
   "source": [
    "#Q.27. Sort the elements of a tuple.\n",
    "my_tuple = (3, 1, 4, 1, 5, 9, 2, 6, 5, 3, 5)\n",
    "\n",
    "# Create a sorted list from the tuple's elements\n",
    "sorted_list = sorted(my_tuple)\n",
    "\n",
    "# Convert the sorted list back to a tuple\n",
    "sorted_tuple = tuple(sorted_list)\n",
    "\n",
    "print(\"Original Tuple:\", my_tuple)\n",
    "print(\"Sorted Tuple:\", sorted_tuple)"
   ]
  },
  {
   "cell_type": "code",
   "execution_count": 63,
   "id": "4e34b298-8f87-40cc-ad9c-e5ee85f4b158",
   "metadata": {},
   "outputs": [
    {
     "name": "stdout",
     "output_type": "stream",
     "text": [
      "Original Tuple (integers): (1, 2, 3, 4, 5)\n",
      "Tuple of Strings: ('1', '2', '3', '4', '5')\n"
     ]
    }
   ],
   "source": [
    "#Q.28. Convert a tuple of integers to a tuple of strings.\n",
    "tuple_of_integers = (1, 2, 3, 4, 5)\n",
    "\n",
    "# Convert the tuple of integers to a tuple of strings\n",
    "tuple_of_strings = tuple(str(x) for x in tuple_of_integers)\n",
    "\n",
    "print(\"Original Tuple (integers):\", tuple_of_integers)\n",
    "print(\"Tuple of Strings:\", tuple_of_strings)"
   ]
  },
  {
   "cell_type": "code",
   "execution_count": 64,
   "id": "829e240d-978f-42dd-94b2-26d8d5c592e7",
   "metadata": {},
   "outputs": [
    {
     "name": "stdout",
     "output_type": "stream",
     "text": [
      "Original Tuple (strings): ('1', '2', '3', '4', '5')\n",
      "Tuple of Integers: (1, 2, 3, 4, 5)\n"
     ]
    }
   ],
   "source": [
    "#Q.29. Convert a tuple of strings to a tuple of integers.\n",
    "tuple_of_strings = ('1', '2', '3', '4', '5')\n",
    "\n",
    "# Convert the tuple of strings to a tuple of integers\n",
    "tuple_of_integers = tuple(int(x) for x in tuple_of_strings)\n",
    "\n",
    "print(\"Original Tuple (strings):\", tuple_of_strings)\n",
    "print(\"Tuple of Integers:\", tuple_of_integers)"
   ]
  },
  {
   "cell_type": "code",
   "execution_count": 65,
   "id": "c7684b28-c18d-4635-927b-aaaa475ef3ad",
   "metadata": {},
   "outputs": [
    {
     "name": "stdout",
     "output_type": "stream",
     "text": [
      "Tuple 1: (1, 2, 3)\n",
      "Tuple 2: (4, 5, 6)\n",
      "Merged Tuple: (1, 2, 3, 4, 5, 6)\n"
     ]
    }
   ],
   "source": [
    "#Q.30. Merge two tuples.\n",
    "tuple1 = (1, 2, 3)\n",
    "tuple2 = (4, 5, 6)\n",
    "\n",
    "# Merge the two tuples\n",
    "merged_tuple = tuple1 + tuple2\n",
    "\n",
    "print(\"Tuple 1:\", tuple1)\n",
    "print(\"Tuple 2:\", tuple2)\n",
    "print(\"Merged Tuple:\", merged_tuple)"
   ]
  },
  {
   "cell_type": "code",
   "execution_count": 66,
   "id": "ec2e451d-1161-4d27-a818-722bc4199086",
   "metadata": {},
   "outputs": [
    {
     "name": "stdout",
     "output_type": "stream",
     "text": [
      "Nested Tuple: (1, (2, 3), (4, (5, 6)))\n",
      "Flattened Tuple: (1, 2, 3, 4, 5, 6)\n"
     ]
    }
   ],
   "source": [
    "#Q.31. Flatten a nested tuple.\n",
    "def flatten_tuple(nested_tuple):\n",
    "    flattened = ()\n",
    "    for item in nested_tuple:\n",
    "        if isinstance(item, tuple):\n",
    "            flattened += flatten_tuple(item)\n",
    "        else:\n",
    "            flattened += (item,)\n",
    "    return flattened\n",
    "\n",
    "# Example nested tuple\n",
    "nested_tuple = (1, (2, 3), (4, (5, 6)))\n",
    "\n",
    "# Flatten the nested tuple\n",
    "flattened_tuple = flatten_tuple(nested_tuple)\n",
    "\n",
    "print(\"Nested Tuple:\", nested_tuple)\n",
    "print(\"Flattened Tuple:\", flattened_tuple)"
   ]
  },
  {
   "cell_type": "code",
   "execution_count": 67,
   "id": "2a9f51b2-f98f-4431-b718-c9a6503db735",
   "metadata": {},
   "outputs": [
    {
     "name": "stdout",
     "output_type": "stream",
     "text": [
      "Tuple of the first 5 prime numbers: (2, 3, 5, 7, 11)\n"
     ]
    }
   ],
   "source": [
    "#Q.32. Create a tuple of the first 5 prime numbers.\n",
    "# Manually create a tuple of the first 5 prime numbers\n",
    "prime_numbers = (2, 3, 5, 7, 11)\n",
    "\n",
    "print(\"Tuple of the first 5 prime numbers:\", prime_numbers)"
   ]
  },
  {
   "cell_type": "code",
   "execution_count": 68,
   "id": "083a96c1-ac98-4cf7-803a-60e3b1c17556",
   "metadata": {},
   "outputs": [
    {
     "name": "stdout",
     "output_type": "stream",
     "text": [
      "Tuple: (1, 2, 3, 2, 1)\n",
      "Is it a Palindrome? True\n"
     ]
    }
   ],
   "source": [
    "#Q.33. Check if a tuple is a palindrome.\n",
    "def is_palindrome(sequence):\n",
    "    return sequence == sequence[::-1]\n",
    "\n",
    "my_tuple = (1, 2, 3, 2, 1)\n",
    "\n",
    "# Convert the tuple to a list and check if it's a palindrome\n",
    "is_palindrome_tuple = is_palindrome(list(my_tuple))\n",
    "\n",
    "print(\"Tuple:\", my_tuple)\n",
    "print(\"Is it a Palindrome?\", is_palindrome_tuple)"
   ]
  },
  {
   "cell_type": "code",
   "execution_count": 69,
   "id": "31339191-2415-45fd-baf4-09c39c6c5e9d",
   "metadata": {},
   "outputs": [
    {
     "name": "stdout",
     "output_type": "stream",
     "text": [
      "Tuple of Squares: (1, 4, 9, 16, 25)\n"
     ]
    }
   ],
   "source": [
    "#Q.34. Create a tuple of squares of numbers from 1 to 5.\n",
    "# Create a tuple of squares of numbers from 1 to 5\n",
    "squares_tuple = tuple(x ** 2 for x in range(1, 6))\n",
    "\n",
    "print(\"Tuple of Squares:\", squares_tuple)"
   ]
  },
  {
   "cell_type": "code",
   "execution_count": 70,
   "id": "2e26aadf-db21-4a89-8352-8c16227112bb",
   "metadata": {},
   "outputs": [
    {
     "name": "stdout",
     "output_type": "stream",
     "text": [
      "Original Tuple: (1, 2, 3, 4, 5, 6, 7, 8, 9, 10)\n",
      "Tuple with Odd Numbers: (1, 3, 5, 7, 9)\n"
     ]
    }
   ],
   "source": [
    "#Q.35. Filter out all even numbers from a tuple.\n",
    "# Original tuple\n",
    "original_tuple = (1, 2, 3, 4, 5, 6, 7, 8, 9, 10)\n",
    "\n",
    "# Create a new tuple with only odd numbers\n",
    "odd_numbers_tuple = tuple(x for x in original_tuple if x % 2 != 0)\n",
    "\n",
    "print(\"Original Tuple:\", original_tuple)\n",
    "print(\"Tuple with Odd Numbers:\", odd_numbers_tuple)"
   ]
  },
  {
   "cell_type": "code",
   "execution_count": 71,
   "id": "be2ede02-846e-4d1e-a53f-0dd80caebd57",
   "metadata": {},
   "outputs": [
    {
     "name": "stdout",
     "output_type": "stream",
     "text": [
      "Original Tuple: (1, 2, 3, 4, 5)\n",
      "Doubled Tuple: (2, 4, 6, 8, 10)\n"
     ]
    }
   ],
   "source": [
    "#Q.36. Multiply all elements in a tuple by 2.\n",
    "# Original tuple\n",
    "original_tuple = (1, 2, 3, 4, 5)\n",
    "\n",
    "# Multiply all elements by 2 and create a new tuple\n",
    "doubled_tuple = tuple(x * 2 for x in original_tuple)\n",
    "\n",
    "print(\"Original Tuple:\", original_tuple)\n",
    "print(\"Doubled Tuple:\", doubled_tuple)"
   ]
  },
  {
   "cell_type": "code",
   "execution_count": 72,
   "id": "ba67251b-d7e6-4f06-823f-5b46f2f575f0",
   "metadata": {},
   "outputs": [
    {
     "name": "stdout",
     "output_type": "stream",
     "text": [
      "Random Tuple of Integers: (62, 97, 83, 35, 67)\n"
     ]
    }
   ],
   "source": [
    "#Q.37. Create a tuple of random numbers.\n",
    "import random\n",
    "\n",
    "# Create a tuple of 5 random integers between 1 and 100\n",
    "random_tuple = tuple(random.randint(1, 100) for _ in range(5))\n",
    "\n",
    "print(\"Random Tuple of Integers:\", random_tuple)"
   ]
  },
  {
   "cell_type": "code",
   "execution_count": 74,
   "id": "2020703a-6cb3-48f8-8dc4-68de4b047eaa",
   "metadata": {},
   "outputs": [
    {
     "name": "stdout",
     "output_type": "stream",
     "text": [
      "Sorted Tuple: (1, 2, 3, 4, 5)\n",
      "Is it Sorted? True\n",
      "Unsorted Tuple: (5, 3, 1, 4, 2)\n",
      "Is it Sorted? False\n"
     ]
    }
   ],
   "source": [
    "#Q.38. Check if a tuple is sorted.\n",
    "def is_sorted_tuple(t):\n",
    "    return t == tuple(sorted(t))\n",
    "\n",
    "# Example tuples\n",
    "sorted_tuple = (1, 2, 3, 4, 5)\n",
    "unsorted_tuple = (5, 3, 1, 4, 2)\n",
    "\n",
    "# Check if the tuples are sorted\n",
    "is_sorted1 = is_sorted_tuple(sorted_tuple)\n",
    "is_sorted2 = is_sorted_tuple(unsorted_tuple)\n",
    "\n",
    "print(\"Sorted Tuple:\", sorted_tuple)\n",
    "print(\"Is it Sorted?\", is_sorted1)\n",
    "\n",
    "print(\"Unsorted Tuple:\", unsorted_tuple)\n",
    "print(\"Is it Sorted?\", is_sorted2)"
   ]
  },
  {
   "cell_type": "code",
   "execution_count": 75,
   "id": "6998fa88-b534-4da1-b162-f5ab31aa976d",
   "metadata": {},
   "outputs": [
    {
     "name": "stdout",
     "output_type": "stream",
     "text": [
      "Original Tuple: (1, 2, 3, 4, 5)\n",
      "Rotated Tuple: (3, 4, 5, 1, 2)\n"
     ]
    }
   ],
   "source": [
    "#Q.39. Rotate a tuple to the left by `n` positions.\n",
    "def rotate_left_tuple(input_tuple, n):\n",
    "    n = n % len(input_tuple)  # Ensure n is within the tuple's length\n",
    "    rotated_tuple = input_tuple[n:] + input_tuple[:n]\n",
    "    return rotated_tuple\n",
    "\n",
    "# Example tuple\n",
    "my_tuple = (1, 2, 3, 4, 5)\n",
    "\n",
    "# Rotate the tuple to the left by 2 positions\n",
    "rotated_tuple = rotate_left_tuple(my_tuple, 2)\n",
    "\n",
    "print(\"Original Tuple:\", my_tuple)\n",
    "print(\"Rotated Tuple:\", rotated_tuple)"
   ]
  },
  {
   "cell_type": "code",
   "execution_count": 76,
   "id": "cdac0872-f248-432d-b331-5cfcca7d4cb7",
   "metadata": {},
   "outputs": [
    {
     "name": "stdout",
     "output_type": "stream",
     "text": [
      "Original Tuple: (1, 2, 3, 4, 5)\n",
      "Rotated Tuple: (4, 5, 1, 2, 3)\n"
     ]
    }
   ],
   "source": [
    "#Q.40. Rotate a tuple to the right by `n` positions.\n",
    "def rotate_right_tuple(input_tuple, n):\n",
    "    n = n % len(input_tuple)  # Ensure n is within the tuple's length\n",
    "    rotated_tuple = input_tuple[-n:] + input_tuple[:-n]\n",
    "    return rotated_tuple\n",
    "\n",
    "# Example tuple\n",
    "my_tuple = (1, 2, 3, 4, 5)\n",
    "\n",
    "# Rotate the tuple to the right by 2 positions\n",
    "rotated_tuple = rotate_right_tuple(my_tuple, 2)\n",
    "\n",
    "print(\"Original Tuple:\", my_tuple)\n",
    "print(\"Rotated Tuple:\", rotated_tuple)"
   ]
  },
  {
   "cell_type": "code",
   "execution_count": 77,
   "id": "f3035056-e324-478d-93bf-5a0a3629db26",
   "metadata": {},
   "outputs": [
    {
     "name": "stdout",
     "output_type": "stream",
     "text": [
      "Tuple of the first 5 Fibonacci numbers: (0, 1, 1, 2, 3)\n"
     ]
    }
   ],
   "source": [
    "#Q.41. Create a tuple of the first 5 Fibonacci numbers.\n",
    "# Function to generate the first n Fibonacci numbers\n",
    "def generate_fibonacci(n):\n",
    "    fibonacci_sequence = [0, 1]\n",
    "    while len(fibonacci_sequence) < n:\n",
    "        next_fibonacci = fibonacci_sequence[-1] + fibonacci_sequence[-2]\n",
    "        fibonacci_sequence.append(next_fibonacci)\n",
    "    return tuple(fibonacci_sequence)\n",
    "\n",
    "# Create a tuple of the first 5 Fibonacci numbers\n",
    "first_5_fibonacci = generate_fibonacci(5)\n",
    "\n",
    "print(\"Tuple of the first 5 Fibonacci numbers:\", first_5_fibonacci)"
   ]
  },
  {
   "cell_type": "code",
   "execution_count": 78,
   "id": "e6d886bf-729a-4309-aa85-cdfa20cc6503",
   "metadata": {},
   "outputs": [
    {
     "name": "stdin",
     "output_type": "stream",
     "text": [
      "Enter elements separated by commas:  1,2,3,4,5\n"
     ]
    },
    {
     "name": "stdout",
     "output_type": "stream",
     "text": [
      "Tuple created from user input: ('1', '2', '3', '4', '5')\n"
     ]
    }
   ],
   "source": [
    "#Q.42. Create a tuple from user input.\n",
    "# Ask the user to enter elements separated by commas\n",
    "user_input = input(\"Enter elements separated by commas: \")\n",
    "\n",
    "# Split the user input by commas and convert it into a tuple\n",
    "user_tuple = tuple(user_input.split(','))\n",
    "\n",
    "print(\"Tuple created from user input:\", user_tuple)"
   ]
  },
  {
   "cell_type": "code",
   "execution_count": 79,
   "id": "18876550-c457-45cf-bda6-15c35c33e588",
   "metadata": {},
   "outputs": [
    {
     "name": "stdout",
     "output_type": "stream",
     "text": [
      "Original Tuple: (1, 2, 3, 4, 5)\n",
      "Swapped Tuple: (1, 4, 3, 2, 5)\n"
     ]
    }
   ],
   "source": [
    "#Q.43. Swap two elements in a tuple.\n",
    "def swap_elements(tup, idx1, idx2):\n",
    "    # Convert the tuple to a list\n",
    "    tup_list = list(tup)\n",
    "    \n",
    "    # Check if the indices are valid\n",
    "    if 0 <= idx1 < len(tup) and 0 <= idx2 < len(tup):\n",
    "        # Swap the elements at the specified indices\n",
    "        tup_list[idx1], tup_list[idx2] = tup_list[idx2], tup_list[idx1]\n",
    "        \n",
    "        # Convert the list back to a tuple\n",
    "        new_tup = tuple(tup_list)\n",
    "        return new_tup\n",
    "    else:\n",
    "        # Invalid indices, return the original tuple\n",
    "        return tup\n",
    "\n",
    "# Example tuple\n",
    "my_tuple = (1, 2, 3, 4, 5)\n",
    "\n",
    "# Swap elements at indices 1 and 3\n",
    "swapped_tuple = swap_elements(my_tuple, 1, 3)\n",
    "\n",
    "print(\"Original Tuple:\", my_tuple)\n",
    "print(\"Swapped Tuple:\", swapped_tuple)"
   ]
  },
  {
   "cell_type": "code",
   "execution_count": 80,
   "id": "a290aa43-565b-4fe5-a332-ccd60e602c32",
   "metadata": {},
   "outputs": [
    {
     "name": "stdout",
     "output_type": "stream",
     "text": [
      "Original Tuple: (1, 2, 3, 4, 5)\n",
      "Reversed Tuple: (5, 4, 3, 2, 1)\n"
     ]
    }
   ],
   "source": [
    "#Q.44. Reverse the elements of a tuple.\n",
    "# Example tuple\n",
    "my_tuple = (1, 2, 3, 4, 5)\n",
    "\n",
    "# Reverse the elements of the tuple\n",
    "reversed_tuple = my_tuple[::-1]\n",
    "\n",
    "print(\"Original Tuple:\", my_tuple)\n",
    "print(\"Reversed Tuple:\", reversed_tuple)"
   ]
  },
  {
   "cell_type": "code",
   "execution_count": 81,
   "id": "b7b15330-5a51-4c7c-9c30-218525569870",
   "metadata": {},
   "outputs": [
    {
     "name": "stdout",
     "output_type": "stream",
     "text": [
      "Tuple of the first 5 powers of 2: (1, 2, 4, 8, 16)\n"
     ]
    }
   ],
   "source": [
    "#Q.45. Create a tuple of the first `n` powers of 2.\n",
    "n = 5  # Replace with the desired number of powers of 2\n",
    "\n",
    "# Create a tuple of the first n powers of 2\n",
    "powers_of_2_tuple = tuple(2 ** i for i in range(n))\n",
    "\n",
    "print(\"Tuple of the first\", n, \"powers of 2:\", powers_of_2_tuple)"
   ]
  },
  {
   "cell_type": "code",
   "execution_count": 82,
   "id": "5e4fd129-7cbb-4bd9-86ed-d5b0d0a75d99",
   "metadata": {},
   "outputs": [
    {
     "name": "stdout",
     "output_type": "stream",
     "text": [
      "Tuple of Strings: ('apple', 'banana', 'cherry', 'date', 'fig')\n",
      "Longest String: banana\n"
     ]
    }
   ],
   "source": [
    "#Q.46. Find the longest string in a tuple of strings.\n",
    "# Example tuple of strings\n",
    "string_tuple = (\"apple\", \"banana\", \"cherry\", \"date\", \"fig\")\n",
    "\n",
    "# Initialize variables to store the longest string and its length\n",
    "longest_string = \"\"\n",
    "max_length = 0\n",
    "\n",
    "# Iterate through the tuple\n",
    "for string in string_tuple:\n",
    "    if len(string) > max_length:\n",
    "        max_length = len(string)\n",
    "        longest_string = string\n",
    "\n",
    "print(\"Tuple of Strings:\", string_tuple)\n",
    "print(\"Longest String:\", longest_string)"
   ]
  },
  {
   "cell_type": "code",
   "execution_count": 83,
   "id": "336bbae8-6ad1-4cb8-93cc-0ae95aecc754",
   "metadata": {},
   "outputs": [
    {
     "name": "stdout",
     "output_type": "stream",
     "text": [
      "Tuple of Strings: ('apple', 'banana', 'cherry', 'date', 'fig')\n",
      "Shortest String: fig\n"
     ]
    }
   ],
   "source": [
    "#Q.47. Find the shortest string in a tuple of strings.\n",
    "# Example tuple of strings\n",
    "string_tuple = (\"apple\", \"banana\", \"cherry\", \"date\", \"fig\")\n",
    "\n",
    "# Initialize variables to store the shortest string and its length\n",
    "shortest_string = \"\"\n",
    "min_length = float('inf')  # Initialize with a large value\n",
    "\n",
    "# Iterate through the tuple\n",
    "for string in string_tuple:\n",
    "    if len(string) < min_length:\n",
    "        min_length = len(string)\n",
    "        shortest_string = string\n",
    "\n",
    "print(\"Tuple of Strings:\", string_tuple)\n",
    "print(\"Shortest String:\", shortest_string)"
   ]
  },
  {
   "cell_type": "code",
   "execution_count": 84,
   "id": "196b618e-5344-460a-a9b5-cbf341ddb660",
   "metadata": {},
   "outputs": [
    {
     "name": "stdout",
     "output_type": "stream",
     "text": [
      "Tuple of the first 5 triangular numbers: (1, 3, 6, 10, 15)\n"
     ]
    }
   ],
   "source": [
    "#Q.48. Create a tuple of the first `n` triangular numbers.\n",
    "def generate_triangular_numbers(n):\n",
    "    triangular_numbers = []\n",
    "    for i in range(1, n + 1):\n",
    "        triangular_number = i * (i + 1) // 2\n",
    "        triangular_numbers.append(triangular_number)\n",
    "    return tuple(triangular_numbers)\n",
    "\n",
    "# Specify the number of triangular numbers you want\n",
    "n = 5\n",
    "\n",
    "# Create a tuple of the first n triangular numbers\n",
    "triangular_numbers_tuple = generate_triangular_numbers(n)\n",
    "\n",
    "print(\"Tuple of the first\", n, \"triangular numbers:\", triangular_numbers_tuple)"
   ]
  },
  {
   "cell_type": "code",
   "execution_count": 85,
   "id": "e857116f-bcd3-4824-bf58-65664f3fd00d",
   "metadata": {},
   "outputs": [
    {
     "name": "stdout",
     "output_type": "stream",
     "text": [
      "Main Tuple: (1, 2, 3, 4, 5, 6, 7)\n",
      "Subsequence Tuple: (3, 4, 5)\n",
      "Main Tuple contains Subsequence Tuple.\n"
     ]
    }
   ],
   "source": [
    "#Q.49. Check if a tuple contains another tuple as a subsequence.\n",
    "def contains_subsequence(main_tuple, subsequence_tuple):\n",
    "    # Iterate through the main tuple\n",
    "    for i in range(len(main_tuple) - len(subsequence_tuple) + 1):\n",
    "        if main_tuple[i:i+len(subsequence_tuple)] == subsequence_tuple:\n",
    "            return True\n",
    "    return False\n",
    "\n",
    "# Example tuples\n",
    "main_tuple = (1, 2, 3, 4, 5, 6, 7)\n",
    "subsequence_tuple = (3, 4, 5)\n",
    "\n",
    "# Check if the main tuple contains the subsequence tuple\n",
    "result = contains_subsequence(main_tuple, subsequence_tuple)\n",
    "\n",
    "print(\"Main Tuple:\", main_tuple)\n",
    "print(\"Subsequence Tuple:\", subsequence_tuple)\n",
    "\n",
    "if result:\n",
    "    print(\"Main Tuple contains Subsequence Tuple.\")\n",
    "else:\n",
    "    print(\"Main Tuple does not contain Subsequence Tuple.\")"
   ]
  },
  {
   "cell_type": "code",
   "execution_count": 86,
   "id": "1a1f61bb-c392-4e6c-a8ae-ca79d2830dbf",
   "metadata": {},
   "outputs": [
    {
     "name": "stdout",
     "output_type": "stream",
     "text": [
      "Tuple of alternating 1s and 0s of length 10 : (1, 0, 1, 0, 1, 0, 1, 0, 1, 0)\n"
     ]
    }
   ],
   "source": [
    "#Q.50. Create a tuple of alternating 1s and 0s of length `n`.\n",
    "n = 10  # Replace with the desired length of the tuple\n",
    "\n",
    "# Create a tuple of alternating 1s and 0s of length n\n",
    "alternating_tuple = tuple(1 if i % 2 == 0 else 0 for i in range(n))\n",
    "\n",
    "print(\"Tuple of alternating 1s and 0s of length\", n, \":\", alternating_tuple)"
   ]
  },
  {
   "cell_type": "code",
   "execution_count": 87,
   "id": "ea36f155-d9f0-4c9d-affd-f9b18a2c2c5d",
   "metadata": {},
   "outputs": [
    {
     "name": "stdout",
     "output_type": "stream",
     "text": [
      "{1, 2, 3, 4, 5}\n"
     ]
    }
   ],
   "source": [
    "# SET BASED\n",
    "#Q.1. Create a set with integers from 1 to 5.\n",
    "my_set = {1, 2, 3, 4, 5}\n",
    "\n",
    "print(my_set)"
   ]
  },
  {
   "cell_type": "code",
   "execution_count": 88,
   "id": "5a4da71d-464f-408c-b746-4d7163149f89",
   "metadata": {},
   "outputs": [
    {
     "name": "stdout",
     "output_type": "stream",
     "text": [
      "Updated Set: {1, 2, 3, 4, 5, 6}\n"
     ]
    }
   ],
   "source": [
    "#Q.2. Add an element to a set.\n",
    "# Create a set\n",
    "my_set = {1, 2, 3, 4, 5}\n",
    "\n",
    "# Add an element to the set\n",
    "my_set.add(6)\n",
    "\n",
    "print(\"Updated Set:\", my_set)"
   ]
  },
  {
   "cell_type": "code",
   "execution_count": 89,
   "id": "b7ae8376-5e63-496c-9328-32e1b5ededb4",
   "metadata": {},
   "outputs": [
    {
     "name": "stdout",
     "output_type": "stream",
     "text": [
      "Updated Set: {1, 2, 4, 5}\n"
     ]
    }
   ],
   "source": [
    "#Q.3. Remove an element from a set.\n",
    "# Create a set\n",
    "my_set = {1, 2, 3, 4, 5}\n",
    "\n",
    "# Remove an element from the set using the remove() method\n",
    "my_set.remove(3)\n",
    "\n",
    "print(\"Updated Set:\", my_set)"
   ]
  },
  {
   "cell_type": "code",
   "execution_count": 90,
   "id": "1ba7db00-10ef-4d55-a48c-f6102338fa79",
   "metadata": {},
   "outputs": [
    {
     "name": "stdout",
     "output_type": "stream",
     "text": [
      "3 exists in the set.\n"
     ]
    }
   ],
   "source": [
    "#Q.4. Check if an element exists in a set.\n",
    "# Create a set\n",
    "my_set = {1, 2, 3, 4, 5}\n",
    "\n",
    "# Check if an element exists in the set using the 'in' keyword\n",
    "element_to_check = 3\n",
    "\n",
    "if element_to_check in my_set:\n",
    "    print(f\"{element_to_check} exists in the set.\")\n",
    "else:\n",
    "    print(f\"{element_to_check} does not exist in the set.\")"
   ]
  },
  {
   "cell_type": "code",
   "execution_count": 91,
   "id": "7025d16e-b989-4651-9885-316ed1003abc",
   "metadata": {},
   "outputs": [
    {
     "name": "stdout",
     "output_type": "stream",
     "text": [
      "Length of the set: 5\n"
     ]
    }
   ],
   "source": [
    "#Q.5. Find the length of a set without using the `len()` function.\n",
    "# Create a set\n",
    "my_set = {1, 2, 3, 4, 5}\n",
    "\n",
    "# Initialize a variable to count the elements\n",
    "count = 0\n",
    "\n",
    "# Iterate through the set and count the elements\n",
    "for element in my_set:\n",
    "    count += 1\n",
    "\n",
    "print(\"Length of the set:\", count)"
   ]
  },
  {
   "cell_type": "code",
   "execution_count": 92,
   "id": "137d351d-2f22-4aa5-9be9-e5f84a6f8e61",
   "metadata": {},
   "outputs": [
    {
     "name": "stdout",
     "output_type": "stream",
     "text": [
      "Updated Set: set()\n"
     ]
    }
   ],
   "source": [
    "#Q.6. Clear all elements from a set.\n",
    "# Create a set\n",
    "my_set = {1, 2, 3, 4, 5}\n",
    "\n",
    "# Clear all elements from the set\n",
    "my_set.clear()\n",
    "\n",
    "print(\"Updated Set:\", my_set)"
   ]
  },
  {
   "cell_type": "code",
   "execution_count": 93,
   "id": "5013036c-7f60-4dfb-82a3-5f0e6a4e8a2c",
   "metadata": {},
   "outputs": [
    {
     "name": "stdout",
     "output_type": "stream",
     "text": [
      "Set of even numbers: {2, 4, 6, 8, 10}\n"
     ]
    }
   ],
   "source": [
    "#Q.7. Create a set of even numbers from 1 to 10.\n",
    "# Create a set of even numbers from 1 to 10 using a set comprehension\n",
    "even_set = {x for x in range(1, 11) if x % 2 == 0}\n",
    "\n",
    "print(\"Set of even numbers:\", even_set)"
   ]
  },
  {
   "cell_type": "code",
   "execution_count": 94,
   "id": "eb893f80-3dab-412c-a5aa-9184b893741d",
   "metadata": {},
   "outputs": [
    {
     "name": "stdout",
     "output_type": "stream",
     "text": [
      "Set of odd numbers: {1, 3, 5, 7, 9}\n"
     ]
    }
   ],
   "source": [
    "#Q.8. Create a set of odd numbers from 1 to 10.\n",
    "# Create a set of odd numbers from 1 to 10 using a set comprehension\n",
    "odd_set = {x for x in range(1, 11) if x % 2 != 0}\n",
    "\n",
    "print(\"Set of odd numbers:\", odd_set)"
   ]
  },
  {
   "cell_type": "code",
   "execution_count": 95,
   "id": "4cf2507b-12d3-4184-8b74-4e62e0ce071d",
   "metadata": {},
   "outputs": [
    {
     "name": "stdout",
     "output_type": "stream",
     "text": [
      "Union of set1 and set2: {1, 2, 3, 4, 5, 6, 7, 8}\n"
     ]
    }
   ],
   "source": [
    "#Q.9. Find the union of two sets.\n",
    "# Create two sets\n",
    "set1 = {1, 2, 3, 4, 5}\n",
    "set2 = {4, 5, 6, 7, 8}\n",
    "\n",
    "# Find the union of the two sets using the union() method\n",
    "union_set = set1.union(set2)\n",
    "\n",
    "print(\"Union of set1 and set2:\", union_set)"
   ]
  },
  {
   "cell_type": "code",
   "execution_count": 96,
   "id": "0b9296cd-90dd-4a63-86d6-083f43f3f0d5",
   "metadata": {},
   "outputs": [
    {
     "name": "stdout",
     "output_type": "stream",
     "text": [
      "Intersection of set1 and set2: {4, 5}\n"
     ]
    }
   ],
   "source": [
    "#Q.10. Find the intersection of two sets.\n",
    "# Create two sets\n",
    "set1 = {1, 2, 3, 4, 5}\n",
    "set2 = {4, 5, 6, 7, 8}\n",
    "\n",
    "# Find the intersection of the two sets using the intersection() method\n",
    "intersection_set = set1.intersection(set2)\n",
    "\n",
    "print(\"Intersection of set1 and set2:\", intersection_set)"
   ]
  },
  {
   "cell_type": "code",
   "execution_count": 97,
   "id": "3d5cb633-209a-4124-a448-e2cd253f1e32",
   "metadata": {},
   "outputs": [
    {
     "name": "stdout",
     "output_type": "stream",
     "text": [
      "Difference between set1 and set2: {1, 2, 3}\n"
     ]
    }
   ],
   "source": [
    "#Q.11. Find the difference between two sets.\n",
    "# Create two sets\n",
    "set1 = {1, 2, 3, 4, 5}\n",
    "set2 = {4, 5, 6, 7, 8}\n",
    "\n",
    "# Find the difference between set1 and set2 using the difference() method\n",
    "difference_set = set1.difference(set2)\n",
    "\n",
    "print(\"Difference between set1 and set2:\", difference_set)"
   ]
  },
  {
   "cell_type": "code",
   "execution_count": 98,
   "id": "b0620132-a795-429e-9c06-7ee1575de073",
   "metadata": {},
   "outputs": [
    {
     "name": "stdout",
     "output_type": "stream",
     "text": [
      "set1 is a subset of set2.\n"
     ]
    }
   ],
   "source": [
    "#Q.12. Check if a set is a subset of another set.\n",
    "# Create two sets\n",
    "set1 = {1, 2, 3}\n",
    "set2 = {1, 2, 3, 4, 5}\n",
    "\n",
    "# Check if set1 is a subset of set2 using the issubset() method\n",
    "is_subset = set1.issubset(set2)\n",
    "\n",
    "if is_subset:\n",
    "    print(\"set1 is a subset of set2.\")\n",
    "else:\n",
    "    print(\"set1 is not a subset of set2.\")"
   ]
  },
  {
   "cell_type": "code",
   "execution_count": 99,
   "id": "48361550-845b-4105-80f8-e2397404f76d",
   "metadata": {},
   "outputs": [
    {
     "name": "stdout",
     "output_type": "stream",
     "text": [
      "set1 is a superset of set2.\n"
     ]
    }
   ],
   "source": [
    "#Q.13. Check if a set is a superset of another set.\n",
    "# Create two sets\n",
    "set1 = {1, 2, 3, 4, 5}\n",
    "set2 = {1, 2, 3}\n",
    "\n",
    "# Check if set1 is a superset of set2 using the issuperset() method\n",
    "is_superset = set1.issuperset(set2)\n",
    "\n",
    "if is_superset:\n",
    "    print(\"set1 is a superset of set2.\")\n",
    "else:\n",
    "    print(\"set1 is not a superset of set2.\")"
   ]
  },
  {
   "cell_type": "code",
   "execution_count": 100,
   "id": "f8e72b7e-4f7b-4f29-96b6-765b67709fb9",
   "metadata": {},
   "outputs": [
    {
     "name": "stdout",
     "output_type": "stream",
     "text": [
      "Set created from list: {1, 2, 3, 4, 5}\n"
     ]
    }
   ],
   "source": [
    "#Q.14. Create a set from a list.\n",
    "# Create a list\n",
    "my_list = [1, 2, 3, 4, 5]\n",
    "\n",
    "# Create a set from the list using the set() constructor\n",
    "my_set = set(my_list)\n",
    "\n",
    "print(\"Set created from list:\", my_set)"
   ]
  },
  {
   "cell_type": "code",
   "execution_count": 101,
   "id": "24cd1ccb-dae9-44a6-8324-292fb0123732",
   "metadata": {},
   "outputs": [
    {
     "name": "stdout",
     "output_type": "stream",
     "text": [
      "List created from set: [1, 2, 3, 4, 5]\n"
     ]
    }
   ],
   "source": [
    "#Q.15. Convert a set to a list.\n",
    "# Create a set\n",
    "my_set = {1, 2, 3, 4, 5}\n",
    "\n",
    "# Convert the set to a list using the list() constructor\n",
    "my_list = list(my_set)\n",
    "\n",
    "print(\"List created from set:\", my_list)"
   ]
  },
  {
   "cell_type": "code",
   "execution_count": 102,
   "id": "793cdd0f-8bee-432c-a6d4-1d47494f75e6",
   "metadata": {},
   "outputs": [
    {
     "name": "stdout",
     "output_type": "stream",
     "text": [
      "Removed element: 1\n",
      "Updated set: {2, 3, 4, 5}\n"
     ]
    }
   ],
   "source": [
    "#Q.16. Remove a random element from a set.\n",
    "# Create a set\n",
    "my_set = {1, 2, 3, 4, 5}\n",
    "\n",
    "# Remove a random element from the set using the pop() method\n",
    "removed_element = my_set.pop()\n",
    "\n",
    "print(\"Removed element:\", removed_element)\n",
    "print(\"Updated set:\", my_set)"
   ]
  },
  {
   "cell_type": "code",
   "execution_count": 103,
   "id": "83bc426b-d799-4963-be7e-86e56fd13023",
   "metadata": {},
   "outputs": [
    {
     "name": "stdout",
     "output_type": "stream",
     "text": [
      "Popped element: 1\n",
      "Updated set: {2, 3, 4, 5}\n"
     ]
    }
   ],
   "source": [
    "#Q.17. Pop an element from a set.\n",
    "# Create a set\n",
    "my_set = {1, 2, 3, 4, 5}\n",
    "\n",
    "# Pop an element from the set using the pop() method\n",
    "popped_element = my_set.pop()\n",
    "\n",
    "print(\"Popped element:\", popped_element)\n",
    "print(\"Updated set:\", my_set)"
   ]
  },
  {
   "cell_type": "code",
   "execution_count": 104,
   "id": "59aec8f4-7d68-4b67-9968-7e60b0f8fc82",
   "metadata": {},
   "outputs": [
    {
     "name": "stdout",
     "output_type": "stream",
     "text": [
      "The sets have no elements in common.\n"
     ]
    }
   ],
   "source": [
    "#Q.18. Check if two sets have no elements in common.\n",
    "# Create two sets\n",
    "set1 = {1, 2, 3}\n",
    "set2 = {4, 5, 6}\n",
    "\n",
    "# Check if the sets have no elements in common using the isdisjoint() method\n",
    "have_no_common_elements = set1.isdisjoint(set2)\n",
    "\n",
    "if have_no_common_elements:\n",
    "    print(\"The sets have no elements in common.\")\n",
    "else:\n",
    "    print(\"The sets have some elements in common.\")"
   ]
  },
  {
   "cell_type": "code",
   "execution_count": 105,
   "id": "aa8b408d-e7f1-4b7a-b3df-711084ee91fe",
   "metadata": {},
   "outputs": [
    {
     "name": "stdout",
     "output_type": "stream",
     "text": [
      "Symmetric difference between set1 and set2: {1, 2, 3, 6, 7, 8}\n"
     ]
    }
   ],
   "source": [
    "#Q.19. Find the symmetric difference between two sets.\n",
    "# Create two sets\n",
    "set1 = {1, 2, 3, 4, 5}\n",
    "set2 = {4, 5, 6, 7, 8}\n",
    "\n",
    "# Find the symmetric difference between set1 and set2 using the symmetric_difference() method\n",
    "symmetric_diff_set = set1.symmetric_difference(set2)\n",
    "\n",
    "print(\"Symmetric difference between set1 and set2:\", symmetric_diff_set)"
   ]
  },
  {
   "cell_type": "code",
   "execution_count": 106,
   "id": "1790a4a3-327e-44e1-bc98-d14180f7b83f",
   "metadata": {},
   "outputs": [
    {
     "name": "stdout",
     "output_type": "stream",
     "text": [
      "Updated set1: {1, 2, 3, 4, 5}\n"
     ]
    }
   ],
   "source": [
    "#Q.20. Update a set with elements from another set.\n",
    "# Create two sets\n",
    "set1 = {1, 2, 3}\n",
    "set2 = {3, 4, 5}\n",
    "\n",
    "# Update set1 with elements from set2 using the update() method\n",
    "set1.update(set2)\n",
    "\n",
    "print(\"Updated set1:\", set1)"
   ]
  },
  {
   "cell_type": "code",
   "execution_count": 107,
   "id": "2756dd52-c5bd-472f-8a4f-e05db6178647",
   "metadata": {},
   "outputs": [
    {
     "name": "stdout",
     "output_type": "stream",
     "text": [
      "Set of the first 5 prime numbers: {2, 3, 5, 7, 11}\n"
     ]
    }
   ],
   "source": [
    "#Q.21. Create a set of the first 5 prime numbers.\n",
    "# Create a set of the first 5 prime numbers\n",
    "prime_set = {2, 3, 5, 7, 11}\n",
    "\n",
    "print(\"Set of the first 5 prime numbers:\", prime_set)"
   ]
  },
  {
   "cell_type": "code",
   "execution_count": 108,
   "id": "8bf217fc-8b8a-4385-a448-e3ae7c772777",
   "metadata": {},
   "outputs": [
    {
     "name": "stdout",
     "output_type": "stream",
     "text": [
      "set1 and set2 are identical.\n"
     ]
    }
   ],
   "source": [
    "#Q.22. Check if two sets are identical.\n",
    "# Create two sets\n",
    "set1 = {1, 2, 3, 4, 5}\n",
    "set2 = {5, 4, 3, 2, 1}  # Identical to set1\n",
    "\n",
    "# Check if set1 and set2 are identical using the == operator\n",
    "are_identical = set1 == set2\n",
    "\n",
    "if are_identical:\n",
    "    print(\"set1 and set2 are identical.\")\n",
    "else:\n",
    "    print(\"set1 and set2 are not identical.\")"
   ]
  },
  {
   "cell_type": "code",
   "execution_count": 109,
   "id": "6b2e1e67-ab56-4880-be63-a4b1df32b9ae",
   "metadata": {},
   "outputs": [
    {
     "name": "stdout",
     "output_type": "stream",
     "text": [
      "Frozen set: frozenset({1, 2, 3, 4, 5})\n"
     ]
    }
   ],
   "source": [
    "#Q.23. Create a frozen set.\n",
    "# Create a frozen set\n",
    "frozen_set = frozenset([1, 2, 3, 4, 5])\n",
    "\n",
    "print(\"Frozen set:\", frozen_set)"
   ]
  },
  {
   "cell_type": "code",
   "execution_count": 110,
   "id": "972bb92b-7a31-4785-a4e7-1477604b7124",
   "metadata": {},
   "outputs": [
    {
     "name": "stdout",
     "output_type": "stream",
     "text": [
      "set1 and set2 are disjoint (they have no common elements).\n"
     ]
    }
   ],
   "source": [
    "#Q.24. Check if a set is disjoint with another set.\n",
    "# Create two sets\n",
    "set1 = {1, 2, 3}\n",
    "set2 = {4, 5, 6}\n",
    "\n",
    "# Check if set1 and set2 are disjoint using the isdisjoint() method\n",
    "are_disjoint = set1.isdisjoint(set2)\n",
    "\n",
    "if are_disjoint:\n",
    "    print(\"set1 and set2 are disjoint (they have no common elements).\")\n",
    "else:\n",
    "    print(\"set1 and set2 are not disjoint (they have common elements).\")"
   ]
  },
  {
   "cell_type": "code",
   "execution_count": 111,
   "id": "4b04be45-11e1-4f76-a615-3af295392bd2",
   "metadata": {},
   "outputs": [
    {
     "name": "stdout",
     "output_type": "stream",
     "text": [
      "Set of squares: {1, 4, 9, 16, 25}\n"
     ]
    }
   ],
   "source": [
    "#Q.25. Create a set of squares of numbers from 1 to 5.\n",
    "# Create a set of squares of numbers from 1 to 5\n",
    "square_set = {x**2 for x in range(1, 6)}\n",
    "\n",
    "print(\"Set of squares:\", square_set)"
   ]
  },
  {
   "cell_type": "code",
   "execution_count": 112,
   "id": "9338d3f3-f975-4647-83b8-b1b366649a82",
   "metadata": {},
   "outputs": [
    {
     "name": "stdout",
     "output_type": "stream",
     "text": [
      "Filtered set (no even numbers): {1, 3, 5, 7, 9}\n"
     ]
    }
   ],
   "source": [
    "#Q.26. Filter out all even numbers from a set.\n",
    "# Create a set with some numbers\n",
    "my_set = {1, 2, 3, 4, 5, 6, 7, 8, 9, 10}\n",
    "\n",
    "# Use a set comprehension to filter out even numbers\n",
    "filtered_set = {x for x in my_set if x % 2 != 0}\n",
    "\n",
    "print(\"Filtered set (no even numbers):\", filtered_set)"
   ]
  },
  {
   "cell_type": "code",
   "execution_count": 113,
   "id": "f62b21ae-de83-4814-bfdd-62a2d4e42f5a",
   "metadata": {},
   "outputs": [
    {
     "name": "stdout",
     "output_type": "stream",
     "text": [
      "New set with elements multiplied by 2: {2, 4, 6, 8, 10}\n"
     ]
    }
   ],
   "source": [
    "#Q.27. Multiply all elements in a set by 2.\n",
    "# Create a set with some numbers\n",
    "my_set = {1, 2, 3, 4, 5}\n",
    "\n",
    "# Use a set comprehension to create a new set with elements multiplied by 2\n",
    "multiplied_set = {x * 2 for x in my_set}\n",
    "\n",
    "print(\"New set with elements multiplied by 2:\", multiplied_set)"
   ]
  },
  {
   "cell_type": "code",
   "execution_count": 114,
   "id": "c0bd6424-f223-453b-b1c0-b22382ffa90a",
   "metadata": {},
   "outputs": [
    {
     "name": "stdout",
     "output_type": "stream",
     "text": [
      "Set of random numbers: {99, 14, 15, 63, 93, 24, 88, 92, 29, 31}\n"
     ]
    }
   ],
   "source": [
    "#Q.28. Create a set of random numbers.\n",
    "import random\n",
    "\n",
    "# Create an empty set to store random numbers\n",
    "random_set = set()\n",
    "\n",
    "# Generate and add random numbers to the set\n",
    "for _ in range(10):  # Generate 10 random numbers, you can adjust the number as needed\n",
    "    random_number = random.randint(1, 100)  # Generates a random integer between 1 and 100 (adjust the range as needed)\n",
    "    random_set.add(random_number)\n",
    "\n",
    "print(\"Set of random numbers:\", random_set)"
   ]
  },
  {
   "cell_type": "code",
   "execution_count": 115,
   "id": "2347665f-8b00-4cbd-94a9-486953f5b394",
   "metadata": {},
   "outputs": [
    {
     "name": "stdout",
     "output_type": "stream",
     "text": [
      "The set is empty.\n"
     ]
    }
   ],
   "source": [
    "#Q.29. Check if a set is empty.\n",
    "# Create an empty set\n",
    "empty_set = set()\n",
    "\n",
    "# Check if the set is empty using bool() and not\n",
    "if not bool(empty_set):\n",
    "    print(\"The set is empty.\")\n",
    "else:\n",
    "    print(\"The set is not empty.\")"
   ]
  },
  {
   "cell_type": "code",
   "execution_count": 116,
   "id": "ff414aa4-d09c-424c-b9e9-45cb48ff65fd",
   "metadata": {},
   "outputs": [
    {
     "name": "stdout",
     "output_type": "stream",
     "text": [
      "Nested set: {frozenset({1, 2, 3}), frozenset({4, 5, 6})}\n"
     ]
    }
   ],
   "source": [
    "#Q.30. Create a nested set (hint: use frozenset).\n",
    "# Create sets to be nested (as frozensets)\n",
    "set1 = frozenset({1, 2, 3})\n",
    "set2 = frozenset({4, 5, 6})\n",
    "\n",
    "# Create a set to hold the nested sets\n",
    "nested_set = {set1, set2}\n",
    "\n",
    "print(\"Nested set:\", nested_set)"
   ]
  },
  {
   "cell_type": "code",
   "execution_count": 117,
   "id": "e28cd019-5442-4c41-ae4d-330f78d768cc",
   "metadata": {},
   "outputs": [
    {
     "name": "stdout",
     "output_type": "stream",
     "text": [
      "Updated set: {1, 2, 4, 5}\n"
     ]
    }
   ],
   "source": [
    "#Q.31. Remove an element from a set using the discard method.\n",
    "# Create a set\n",
    "my_set = {1, 2, 3, 4, 5}\n",
    "\n",
    "# Remove an element from the set using the discard() method\n",
    "my_set.discard(3)\n",
    "\n",
    "print(\"Updated set:\", my_set)"
   ]
  },
  {
   "cell_type": "code",
   "execution_count": 118,
   "id": "67e8d0d3-ae90-4407-93d7-d8d30d7f7830",
   "metadata": {},
   "outputs": [
    {
     "name": "stdout",
     "output_type": "stream",
     "text": [
      "The sets are equal.\n"
     ]
    }
   ],
   "source": [
    "#Q.32. Compare two sets.\n",
    "set1 = {1, 2, 3}\n",
    "set2 = {3, 2, 1}\n",
    "\n",
    "are_equal = set1 == set2  # True if the sets contain the same elements\n",
    "\n",
    "if are_equal:\n",
    "    print(\"The sets are equal.\")\n",
    "else:\n",
    "    print(\"The sets are not equal.\")"
   ]
  },
  {
   "cell_type": "code",
   "execution_count": 119,
   "id": "99e7f5cf-41b2-4e83-90ca-efeb148f72b8",
   "metadata": {},
   "outputs": [
    {
     "name": "stdout",
     "output_type": "stream",
     "text": [
      "Set from string: {'r', ',', 'W', 'd', 'o', ' ', 'l', 'H', 'e', '!'}\n"
     ]
    }
   ],
   "source": [
    "#Q.33. Create a set from a string.\n",
    "# Create an empty set\n",
    "my_set = set()\n",
    "\n",
    "# A string from which to create the set\n",
    "my_string = \"Hello, World!\"\n",
    "\n",
    "# Iterate through the characters in the string and add them to the set\n",
    "for char in my_string:\n",
    "    my_set.add(char)\n",
    "\n",
    "print(\"Set from string:\", my_set)"
   ]
  },
  {
   "cell_type": "code",
   "execution_count": 120,
   "id": "160e7b2a-48e7-4833-bbfa-831c0fa50d0a",
   "metadata": {},
   "outputs": [
    {
     "name": "stdout",
     "output_type": "stream",
     "text": [
      "Set of integers: {1, 2, 3, 4, 5}\n"
     ]
    }
   ],
   "source": [
    "#Q.34. Convert a set of strings to a set of integers.\n",
    "# Create a set of strings\n",
    "string_set = {\"1\", \"2\", \"3\", \"4\", \"5\"}\n",
    "\n",
    "# Convert the set of strings to a set of integers using a set comprehension\n",
    "integer_set = {int(s) for s in string_set}\n",
    "\n",
    "print(\"Set of integers:\", integer_set)"
   ]
  },
  {
   "cell_type": "code",
   "execution_count": 121,
   "id": "d485e7af-9396-4287-b3d1-e0543102a8f9",
   "metadata": {},
   "outputs": [
    {
     "name": "stdout",
     "output_type": "stream",
     "text": [
      "Set of strings: {'5', '2', '1', '4', '3'}\n"
     ]
    }
   ],
   "source": [
    "#Q.35. Convert a set of integers to a set of strings.\n",
    "# Create a set of integers\n",
    "integer_set = {1, 2, 3, 4, 5}\n",
    "\n",
    "# Convert the set of integers to a set of strings using a set comprehension\n",
    "string_set = {str(i) for i in integer_set}\n",
    "\n",
    "print(\"Set of strings:\", string_set)"
   ]
  },
  {
   "cell_type": "code",
   "execution_count": 122,
   "id": "1795b594-a73c-418c-bc24-6cb357f0cef8",
   "metadata": {},
   "outputs": [
    {
     "name": "stdout",
     "output_type": "stream",
     "text": [
      "{1, 2, 3, 4, 5}\n"
     ]
    }
   ],
   "source": [
    "#Q.36. Create a set from a tuple.\n",
    "# Create a tuple\n",
    "my_tuple = (1, 2, 3, 4, 5)\n",
    "\n",
    "# Convert the tuple to a set\n",
    "my_set = set(my_tuple)\n",
    "\n",
    "# Now, 'my_set' contains the unique elements from 'my_tuple'\n",
    "print(my_set)"
   ]
  },
  {
   "cell_type": "code",
   "execution_count": 123,
   "id": "f7542070-fda2-44fb-9b4f-fcf68a5801d1",
   "metadata": {},
   "outputs": [
    {
     "name": "stdout",
     "output_type": "stream",
     "text": [
      "(1, 2, 3, 4, 5)\n"
     ]
    }
   ],
   "source": [
    "#Q.37. Convert a set to a tuple.\n",
    "# Create a set\n",
    "my_set = {1, 2, 3, 4, 5}\n",
    "\n",
    "# Convert the set to a tuple\n",
    "my_tuple = tuple(my_set)\n",
    "\n",
    "# Now, 'my_tuple' contains the elements from 'my_set' as a tuple\n",
    "print(my_tuple)"
   ]
  },
  {
   "cell_type": "code",
   "execution_count": 124,
   "id": "7ce3d52c-bd1b-4395-aa11-2619c7c21a2b",
   "metadata": {},
   "outputs": [
    {
     "name": "stdout",
     "output_type": "stream",
     "text": [
      "Maximum value in the set: 89\n"
     ]
    }
   ],
   "source": [
    "#Q.38. Find the maximum value in a set.\n",
    "# Create a set\n",
    "my_set = {12, 45, 67, 23, 56, 89}\n",
    "\n",
    "# Find the maximum value in the set\n",
    "max_value = max(my_set)\n",
    "\n",
    "# Print the maximum value\n",
    "print(\"Maximum value in the set:\", max_value)"
   ]
  },
  {
   "cell_type": "code",
   "execution_count": 125,
   "id": "ad9777f1-6501-447a-971a-97cfb00f5d8d",
   "metadata": {},
   "outputs": [
    {
     "name": "stdout",
     "output_type": "stream",
     "text": [
      "Minimum value in the set: 12\n"
     ]
    }
   ],
   "source": [
    "#Q.39. Find the minimum value in a set.\n",
    "# Create a set\n",
    "my_set = {12, 45, 67, 23, 56, 89}\n",
    "\n",
    "# Find the minimum value in the set\n",
    "min_value = min(my_set)\n",
    "\n",
    "# Print the minimum value\n",
    "print(\"Minimum value in the set:\", min_value)"
   ]
  },
  {
   "cell_type": "code",
   "execution_count": 126,
   "id": "7700333a-891a-4285-8645-54fd56ab201e",
   "metadata": {},
   "outputs": [
    {
     "name": "stdin",
     "output_type": "stream",
     "text": [
      "Enter a value (or 'done' to stop):  10\n",
      "Enter a value (or 'done' to stop):  20\n",
      "Enter a value (or 'done' to stop):  done\n"
     ]
    },
    {
     "name": "stdout",
     "output_type": "stream",
     "text": [
      "The set created from user input: {'20', '10'}\n"
     ]
    }
   ],
   "source": [
    "#Q.40. Create a set from user input.\n",
    "# Initialize an empty set\n",
    "my_set = set()\n",
    "\n",
    "while True:\n",
    "    # Ask the user for input\n",
    "    user_input = input(\"Enter a value (or 'done' to stop): \")\n",
    "\n",
    "    # Check if the user wants to stop\n",
    "    if user_input.lower() == 'done':\n",
    "        break\n",
    "\n",
    "    # Add the input to the set\n",
    "    my_set.add(user_input)\n",
    "\n",
    "# Print the final set\n",
    "print(\"The set created from user input:\", my_set)"
   ]
  },
  {
   "cell_type": "code",
   "execution_count": 127,
   "id": "90e3cc34-3041-4294-81df-2b1cf65d3632",
   "metadata": {},
   "outputs": [
    {
     "name": "stdout",
     "output_type": "stream",
     "text": [
      "The sets have elements in common.\n"
     ]
    }
   ],
   "source": [
    "#Q.41. Check if the intersection of two sets is empty.\n",
    "# Create two sets\n",
    "set1 = {1, 2, 3, 4}\n",
    "set2 = {3, 4, 5, 6}\n",
    "\n",
    "# Check if the intersection is empty\n",
    "if set1.isdisjoint(set2):\n",
    "    print(\"The sets have no elements in common (intersection is empty).\")\n",
    "else:\n",
    "    print(\"The sets have elements in common.\")"
   ]
  },
  {
   "cell_type": "code",
   "execution_count": 128,
   "id": "053961c1-22cb-4354-ba65-bf47851338db",
   "metadata": {},
   "outputs": [
    {
     "name": "stdout",
     "output_type": "stream",
     "text": [
      "Set of the first 5 Fibonacci numbers: {0, 1, 2, 3}\n"
     ]
    }
   ],
   "source": [
    "#Q.42. Create a set of the first 5 Fibonacci numbers.\n",
    "# Initialize an empty set\n",
    "fibonacci_set = set()\n",
    "\n",
    "# Initialize the first two Fibonacci numbers\n",
    "a, b = 0, 1\n",
    "\n",
    "# Add the first 5 Fibonacci numbers to the set\n",
    "for _ in range(5):\n",
    "    fibonacci_set.add(a)\n",
    "    a, b = b, a + b\n",
    "\n",
    "# Print the set of Fibonacci numbers\n",
    "print(\"Set of the first 5 Fibonacci numbers:\", fibonacci_set)"
   ]
  },
  {
   "cell_type": "code",
   "execution_count": 129,
   "id": "40250de9-8677-49c0-a2a2-9b969ed8ca9b",
   "metadata": {},
   "outputs": [
    {
     "name": "stdout",
     "output_type": "stream",
     "text": [
      "List with duplicates removed: [1, 2, 3, 4, 5]\n"
     ]
    }
   ],
   "source": [
    "#Q.43. Remove duplicates from a list using sets.\n",
    "# Create a list with duplicate elements\n",
    "my_list = [1, 2, 2, 3, 4, 4, 5]\n",
    "\n",
    "# Remove duplicates by converting to a set and back to a list\n",
    "unique_list = list(set(my_list))\n",
    "\n",
    "# Print the list with duplicates removed\n",
    "print(\"List with duplicates removed:\", unique_list)"
   ]
  },
  {
   "cell_type": "code",
   "execution_count": 130,
   "id": "2076ed8a-8588-4b01-bc4c-ef93926b7398",
   "metadata": {},
   "outputs": [
    {
     "name": "stdout",
     "output_type": "stream",
     "text": [
      "The sets have the same elements.\n"
     ]
    }
   ],
   "source": [
    "#Q.44. Check if two sets have the same elements, regardless of their count.\n",
    "# Create two sets with the same elements in different orders and counts\n",
    "set1 = {1, 2, 3, 4, 5}\n",
    "set2 = {5, 4, 3, 2, 1}\n",
    "\n",
    "# Check if the sets have the same elements (order and count don't matter)\n",
    "if set1 == set2:\n",
    "    print(\"The sets have the same elements.\")\n",
    "else:\n",
    "    print(\"The sets do not have the same elements.\")"
   ]
  },
  {
   "cell_type": "code",
   "execution_count": 131,
   "id": "73ed26b1-345d-42d6-a354-729f25b68434",
   "metadata": {},
   "outputs": [
    {
     "name": "stdout",
     "output_type": "stream",
     "text": [
      "Set of the first 5 powers of 2: {1, 2, 4, 8, 16}\n"
     ]
    }
   ],
   "source": [
    "#Q.45. Create a set of the first `n` powers of 2.\n",
    "# Function to create a set of the first n powers of 2\n",
    "def powers_of_2(n):\n",
    "    power_set = set()\n",
    "    for i in range(n):\n",
    "        power_set.add(2 ** i)\n",
    "    return power_set\n",
    "\n",
    "# Define the number of powers you want (e.g., the first 5 powers)\n",
    "n = 5\n",
    "\n",
    "# Create the set of the first n powers of 2\n",
    "power_set = powers_of_2(n)\n",
    "\n",
    "# Print the set\n",
    "print(\"Set of the first\", n, \"powers of 2:\", power_set)"
   ]
  },
  {
   "cell_type": "code",
   "execution_count": 132,
   "id": "e1262852-22ea-4c60-b0f7-8fca5725f1f6",
   "metadata": {},
   "outputs": [
    {
     "name": "stdout",
     "output_type": "stream",
     "text": [
      "Common elements: [3, 4, 5]\n"
     ]
    }
   ],
   "source": [
    "#Q.46. Find the common elements between a set and a list.\n",
    "# Create a set\n",
    "my_set = {1, 2, 3, 4, 5}\n",
    "\n",
    "# Create a list\n",
    "my_list = [3, 4, 5, 6, 7]\n",
    "\n",
    "# Find the common elements between the set and the list\n",
    "common_elements = my_set.intersection(my_list)\n",
    "\n",
    "# Convert the result to a list if needed\n",
    "common_elements_list = list(common_elements)\n",
    "\n",
    "# Print the common elements\n",
    "print(\"Common elements:\", common_elements_list)"
   ]
  },
  {
   "cell_type": "code",
   "execution_count": 133,
   "id": "f8646a4f-effe-43bd-8a0f-2d0f25c9d8ed",
   "metadata": {},
   "outputs": [
    {
     "name": "stdout",
     "output_type": "stream",
     "text": [
      "Set of the first 5 triangular numbers: {1, 3, 6, 10, 15}\n"
     ]
    }
   ],
   "source": [
    "#Q.47. Create a set of the first `n` triangular numbers.\n",
    "# Function to create a set of the first n triangular numbers\n",
    "def triangular_numbers(n):\n",
    "    triangular_set = set()\n",
    "    sum = 0\n",
    "    for i in range(1, n + 1):\n",
    "        sum += i\n",
    "        triangular_set.add(sum)\n",
    "    return triangular_set\n",
    "\n",
    "# Define the number of triangular numbers you want (e.g., the first 5)\n",
    "n = 5\n",
    "\n",
    "# Create the set of the first n triangular numbers\n",
    "triangular_set = triangular_numbers(n)\n",
    "\n",
    "# Print the set\n",
    "print(\"Set of the first\", n, \"triangular numbers:\", triangular_set)"
   ]
  },
  {
   "cell_type": "code",
   "execution_count": 134,
   "id": "4b03b2eb-1967-4115-8a5a-a85386e3f7bd",
   "metadata": {},
   "outputs": [
    {
     "name": "stdout",
     "output_type": "stream",
     "text": [
      "set2 is a subset of set1\n"
     ]
    }
   ],
   "source": [
    "#Q.48. Check if a set contains another set as a subset.\n",
    "# Create two sets\n",
    "set1 = {1, 2, 3}\n",
    "set2 = {2, 3}\n",
    "\n",
    "# Check if set2 is a subset of set1\n",
    "if set2.issubset(set1):\n",
    "    print(\"set2 is a subset of set1\")\n",
    "else:\n",
    "    print(\"set2 is not a subset of set1\")"
   ]
  },
  {
   "cell_type": "code",
   "execution_count": 135,
   "id": "c4247350-3e4c-4382-8b94-0991b6c8916f",
   "metadata": {},
   "outputs": [
    {
     "name": "stdout",
     "output_type": "stream",
     "text": [
      "Set of alternating 1s and 0s of length 10 : {0, 1}\n"
     ]
    }
   ],
   "source": [
    "#Q.49. Create a set of alternating 1s and 0s of length `n`.\n",
    "# Function to create a set of alternating 1s and 0s of length n\n",
    "def alternating_set(n):\n",
    "    alt_set = set()\n",
    "    for i in range(n):\n",
    "        if i % 2 == 0:\n",
    "            alt_set.add(0)\n",
    "        else:\n",
    "            alt_set.add(1)\n",
    "    return alt_set\n",
    "\n",
    "# Define the length of the alternating set\n",
    "n = 10  # You can change this to the desired length\n",
    "\n",
    "# Create the set of alternating 1s and 0s\n",
    "alt_set = alternating_set(n)\n",
    "\n",
    "# Print the set\n",
    "print(\"Set of alternating 1s and 0s of length\", n, \":\", alt_set)"
   ]
  },
  {
   "cell_type": "code",
   "execution_count": 136,
   "id": "040657f2-1d9f-44c6-935f-3a5c508323dc",
   "metadata": {},
   "outputs": [
    {
     "name": "stdout",
     "output_type": "stream",
     "text": [
      "Merged set: {1, 2, 3, 4, 5, 6, 7}\n"
     ]
    }
   ],
   "source": [
    "#Q.50. Merge multiple sets into one.\n",
    "# Create three sets\n",
    "set1 = {1, 2, 3}\n",
    "set2 = {3, 4, 5}\n",
    "set3 = {5, 6, 7}\n",
    "\n",
    "# Merge the sets using the union() method\n",
    "merged_set = set1.union(set2, set3)\n",
    "\n",
    "# Print the merged set\n",
    "print(\"Merged set:\", merged_set)"
   ]
  },
  {
   "cell_type": "code",
   "execution_count": 1,
   "id": "11697108-2ddd-428b-9f0e-3de7d1963ce3",
   "metadata": {},
   "outputs": [],
   "source": [
    "#end"
   ]
  },
  {
   "cell_type": "code",
   "execution_count": null,
   "id": "6e010c8c-3817-4011-8fd1-46281ea5e981",
   "metadata": {},
   "outputs": [],
   "source": []
  }
 ],
 "metadata": {
  "kernelspec": {
   "display_name": "Python 3 (ipykernel)",
   "language": "python",
   "name": "python3"
  },
  "language_info": {
   "codemirror_mode": {
    "name": "ipython",
    "version": 3
   },
   "file_extension": ".py",
   "mimetype": "text/x-python",
   "name": "python",
   "nbconvert_exporter": "python",
   "pygments_lexer": "ipython3",
   "version": "3.10.8"
  }
 },
 "nbformat": 4,
 "nbformat_minor": 5
}
